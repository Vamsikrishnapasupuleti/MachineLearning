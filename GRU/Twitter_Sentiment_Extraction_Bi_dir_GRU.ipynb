{
  "cells": [
    {
      "cell_type": "code",
      "source": [
        "from google.colab import drive\n",
        "drive.mount('/content/drive')"
      ],
      "metadata": {
        "id": "MtkNJScxAKeL",
        "colab": {
          "base_uri": "https://localhost:8080/"
        },
        "outputId": "04781700-6445-4c7b-d3ee-0abc0c5675de"
      },
      "execution_count": 79,
      "outputs": [
        {
          "output_type": "stream",
          "name": "stdout",
          "text": [
            "Drive already mounted at /content/drive; to attempt to forcibly remount, call drive.mount(\"/content/drive\", force_remount=True).\n"
          ]
        }
      ]
    },
    {
      "cell_type": "code",
      "execution_count": 123,
      "metadata": {
        "id": "DbYp6ge2psAf"
      },
      "outputs": [],
      "source": [
        "import pandas as pd\n",
        "import numpy as np\n",
        "from sklearn.preprocessing import StandardScaler, MinMaxScaler\n",
        "from sklearn.model_selection import train_test_split\n",
        "from numpy import array\n",
        "from keras.preprocessing.sequence import pad_sequences\n",
        "import tensorflow as tf\n",
        "from tensorflow.keras.preprocessing.text import Tokenizer\n",
        "from tensorflow.keras.preprocessing.sequence import pad_sequences\n",
        "from tensorflow.keras.models import Sequential, Model\n",
        "from tensorflow.keras.layers import Input, Embedding, GRU, Bidirectional, BatchNormalization, Concatenate, Dense, Flatten, Dropout, LayerNormalization\n",
        "from tensorflow.keras.utils import plot_model\n",
        "from keras.callbacks import EarlyStopping, ModelCheckpoint\n",
        "from keras.models import load_model\n",
        "from tensorflow.keras.regularizers import l2\n",
        "from sklearn.metrics import mean_squared_error\n",
        "from matplotlib.widgets import SpanSelector\n",
        "from sklearn.metrics import jaccard_score\n",
        "import matplotlib.pyplot as plt\n",
        "import seaborn as sns\n",
        "from matplotlib import colors"
      ]
    },
    {
      "cell_type": "code",
      "execution_count": 124,
      "metadata": {
        "colab": {
          "base_uri": "https://localhost:8080/",
          "height": 423
        },
        "id": "QEgj4FEvldxh",
        "outputId": "9e8ec4e8-fd03-4e42-d488-2c7de587e638"
      },
      "outputs": [
        {
          "output_type": "execute_result",
          "data": {
            "text/plain": [
              "           textID                                               text  \\\n",
              "0      cb774db0d1                I`d have responded, if I were going   \n",
              "1      549e992a42      Sooo SAD I will miss you here in San Diego!!!   \n",
              "2      088c60f138                          my boss is bullying me...   \n",
              "3      9642c003ef                     what interview! leave me alone   \n",
              "4      358bd9e861   Sons of ****, why couldn`t they put them on t...   \n",
              "...           ...                                                ...   \n",
              "27476  4eac33d1c0   wish we could come see u on Denver  husband l...   \n",
              "27477  4f4c4fc327   I`ve wondered about rake to.  The client has ...   \n",
              "27478  f67aae2310   Yay good for both of you. Enjoy the break - y...   \n",
              "27479  ed167662a5                         But it was worth it  ****.   \n",
              "27480  6f7127d9d7     All this flirting going on - The ATG smiles...   \n",
              "\n",
              "                                           selected_text sentiment  \n",
              "0                    I`d have responded, if I were going   neutral  \n",
              "1                                               Sooo SAD  negative  \n",
              "2                                            bullying me  negative  \n",
              "3                                         leave me alone  negative  \n",
              "4                                          Sons of ****,  negative  \n",
              "...                                                  ...       ...  \n",
              "27476                                             d lost  negative  \n",
              "27477                                      , don`t force  negative  \n",
              "27478                          Yay good for both of you.  positive  \n",
              "27479                         But it was worth it  ****.  positive  \n",
              "27480  All this flirting going on - The ATG smiles. Y...   neutral  \n",
              "\n",
              "[27480 rows x 4 columns]"
            ],
            "text/html": [
              "\n",
              "  <div id=\"df-dd7497ae-63d4-446f-b8a5-e2aa641c9469\">\n",
              "    <div class=\"colab-df-container\">\n",
              "      <div>\n",
              "<style scoped>\n",
              "    .dataframe tbody tr th:only-of-type {\n",
              "        vertical-align: middle;\n",
              "    }\n",
              "\n",
              "    .dataframe tbody tr th {\n",
              "        vertical-align: top;\n",
              "    }\n",
              "\n",
              "    .dataframe thead th {\n",
              "        text-align: right;\n",
              "    }\n",
              "</style>\n",
              "<table border=\"1\" class=\"dataframe\">\n",
              "  <thead>\n",
              "    <tr style=\"text-align: right;\">\n",
              "      <th></th>\n",
              "      <th>textID</th>\n",
              "      <th>text</th>\n",
              "      <th>selected_text</th>\n",
              "      <th>sentiment</th>\n",
              "    </tr>\n",
              "  </thead>\n",
              "  <tbody>\n",
              "    <tr>\n",
              "      <th>0</th>\n",
              "      <td>cb774db0d1</td>\n",
              "      <td>I`d have responded, if I were going</td>\n",
              "      <td>I`d have responded, if I were going</td>\n",
              "      <td>neutral</td>\n",
              "    </tr>\n",
              "    <tr>\n",
              "      <th>1</th>\n",
              "      <td>549e992a42</td>\n",
              "      <td>Sooo SAD I will miss you here in San Diego!!!</td>\n",
              "      <td>Sooo SAD</td>\n",
              "      <td>negative</td>\n",
              "    </tr>\n",
              "    <tr>\n",
              "      <th>2</th>\n",
              "      <td>088c60f138</td>\n",
              "      <td>my boss is bullying me...</td>\n",
              "      <td>bullying me</td>\n",
              "      <td>negative</td>\n",
              "    </tr>\n",
              "    <tr>\n",
              "      <th>3</th>\n",
              "      <td>9642c003ef</td>\n",
              "      <td>what interview! leave me alone</td>\n",
              "      <td>leave me alone</td>\n",
              "      <td>negative</td>\n",
              "    </tr>\n",
              "    <tr>\n",
              "      <th>4</th>\n",
              "      <td>358bd9e861</td>\n",
              "      <td>Sons of ****, why couldn`t they put them on t...</td>\n",
              "      <td>Sons of ****,</td>\n",
              "      <td>negative</td>\n",
              "    </tr>\n",
              "    <tr>\n",
              "      <th>...</th>\n",
              "      <td>...</td>\n",
              "      <td>...</td>\n",
              "      <td>...</td>\n",
              "      <td>...</td>\n",
              "    </tr>\n",
              "    <tr>\n",
              "      <th>27476</th>\n",
              "      <td>4eac33d1c0</td>\n",
              "      <td>wish we could come see u on Denver  husband l...</td>\n",
              "      <td>d lost</td>\n",
              "      <td>negative</td>\n",
              "    </tr>\n",
              "    <tr>\n",
              "      <th>27477</th>\n",
              "      <td>4f4c4fc327</td>\n",
              "      <td>I`ve wondered about rake to.  The client has ...</td>\n",
              "      <td>, don`t force</td>\n",
              "      <td>negative</td>\n",
              "    </tr>\n",
              "    <tr>\n",
              "      <th>27478</th>\n",
              "      <td>f67aae2310</td>\n",
              "      <td>Yay good for both of you. Enjoy the break - y...</td>\n",
              "      <td>Yay good for both of you.</td>\n",
              "      <td>positive</td>\n",
              "    </tr>\n",
              "    <tr>\n",
              "      <th>27479</th>\n",
              "      <td>ed167662a5</td>\n",
              "      <td>But it was worth it  ****.</td>\n",
              "      <td>But it was worth it  ****.</td>\n",
              "      <td>positive</td>\n",
              "    </tr>\n",
              "    <tr>\n",
              "      <th>27480</th>\n",
              "      <td>6f7127d9d7</td>\n",
              "      <td>All this flirting going on - The ATG smiles...</td>\n",
              "      <td>All this flirting going on - The ATG smiles. Y...</td>\n",
              "      <td>neutral</td>\n",
              "    </tr>\n",
              "  </tbody>\n",
              "</table>\n",
              "<p>27480 rows × 4 columns</p>\n",
              "</div>\n",
              "      <button class=\"colab-df-convert\" onclick=\"convertToInteractive('df-dd7497ae-63d4-446f-b8a5-e2aa641c9469')\"\n",
              "              title=\"Convert this dataframe to an interactive table.\"\n",
              "              style=\"display:none;\">\n",
              "        \n",
              "  <svg xmlns=\"http://www.w3.org/2000/svg\" height=\"24px\"viewBox=\"0 0 24 24\"\n",
              "       width=\"24px\">\n",
              "    <path d=\"M0 0h24v24H0V0z\" fill=\"none\"/>\n",
              "    <path d=\"M18.56 5.44l.94 2.06.94-2.06 2.06-.94-2.06-.94-.94-2.06-.94 2.06-2.06.94zm-11 1L8.5 8.5l.94-2.06 2.06-.94-2.06-.94L8.5 2.5l-.94 2.06-2.06.94zm10 10l.94 2.06.94-2.06 2.06-.94-2.06-.94-.94-2.06-.94 2.06-2.06.94z\"/><path d=\"M17.41 7.96l-1.37-1.37c-.4-.4-.92-.59-1.43-.59-.52 0-1.04.2-1.43.59L10.3 9.45l-7.72 7.72c-.78.78-.78 2.05 0 2.83L4 21.41c.39.39.9.59 1.41.59.51 0 1.02-.2 1.41-.59l7.78-7.78 2.81-2.81c.8-.78.8-2.07 0-2.86zM5.41 20L4 18.59l7.72-7.72 1.47 1.35L5.41 20z\"/>\n",
              "  </svg>\n",
              "      </button>\n",
              "      \n",
              "  <style>\n",
              "    .colab-df-container {\n",
              "      display:flex;\n",
              "      flex-wrap:wrap;\n",
              "      gap: 12px;\n",
              "    }\n",
              "\n",
              "    .colab-df-convert {\n",
              "      background-color: #E8F0FE;\n",
              "      border: none;\n",
              "      border-radius: 50%;\n",
              "      cursor: pointer;\n",
              "      display: none;\n",
              "      fill: #1967D2;\n",
              "      height: 32px;\n",
              "      padding: 0 0 0 0;\n",
              "      width: 32px;\n",
              "    }\n",
              "\n",
              "    .colab-df-convert:hover {\n",
              "      background-color: #E2EBFA;\n",
              "      box-shadow: 0px 1px 2px rgba(60, 64, 67, 0.3), 0px 1px 3px 1px rgba(60, 64, 67, 0.15);\n",
              "      fill: #174EA6;\n",
              "    }\n",
              "\n",
              "    [theme=dark] .colab-df-convert {\n",
              "      background-color: #3B4455;\n",
              "      fill: #D2E3FC;\n",
              "    }\n",
              "\n",
              "    [theme=dark] .colab-df-convert:hover {\n",
              "      background-color: #434B5C;\n",
              "      box-shadow: 0px 1px 3px 1px rgba(0, 0, 0, 0.15);\n",
              "      filter: drop-shadow(0px 1px 2px rgba(0, 0, 0, 0.3));\n",
              "      fill: #FFFFFF;\n",
              "    }\n",
              "  </style>\n",
              "\n",
              "      <script>\n",
              "        const buttonEl =\n",
              "          document.querySelector('#df-dd7497ae-63d4-446f-b8a5-e2aa641c9469 button.colab-df-convert');\n",
              "        buttonEl.style.display =\n",
              "          google.colab.kernel.accessAllowed ? 'block' : 'none';\n",
              "\n",
              "        async function convertToInteractive(key) {\n",
              "          const element = document.querySelector('#df-dd7497ae-63d4-446f-b8a5-e2aa641c9469');\n",
              "          const dataTable =\n",
              "            await google.colab.kernel.invokeFunction('convertToInteractive',\n",
              "                                                     [key], {});\n",
              "          if (!dataTable) return;\n",
              "\n",
              "          const docLinkHtml = 'Like what you see? Visit the ' +\n",
              "            '<a target=\"_blank\" href=https://colab.research.google.com/notebooks/data_table.ipynb>data table notebook</a>'\n",
              "            + ' to learn more about interactive tables.';\n",
              "          element.innerHTML = '';\n",
              "          dataTable['output_type'] = 'display_data';\n",
              "          await google.colab.output.renderOutput(dataTable, element);\n",
              "          const docLink = document.createElement('div');\n",
              "          docLink.innerHTML = docLinkHtml;\n",
              "          element.appendChild(docLink);\n",
              "        }\n",
              "      </script>\n",
              "    </div>\n",
              "  </div>\n",
              "  "
            ]
          },
          "metadata": {},
          "execution_count": 124
        }
      ],
      "source": [
        "df_train = pd.read_csv(\"/content/drive/MyDrive/Ml-twitter/train.csv\")\n",
        "df_test = pd.read_csv(\"/content/drive/MyDrive/Ml-twitter/test.csv\")\n",
        "df_train = df_train.dropna()\n",
        "df_train.shape\n",
        "df_train.head(10)\n",
        "df_train.dtypes\n",
        "df_train"
      ]
    },
    {
      "cell_type": "code",
      "source": [
        "df_test"
      ],
      "metadata": {
        "colab": {
          "base_uri": "https://localhost:8080/",
          "height": 423
        },
        "id": "mG7akcZNg7kX",
        "outputId": "a3dbec27-50c6-43e3-d756-d0f87bf33ed3"
      },
      "execution_count": 125,
      "outputs": [
        {
          "output_type": "execute_result",
          "data": {
            "text/plain": [
              "          textID                                               text sentiment\n",
              "0     f87dea47db  Last session of the day  http://twitpic.com/67ezh   neutral\n",
              "1     96d74cb729   Shanghai is also really exciting (precisely -...  positive\n",
              "2     eee518ae67  Recession hit Veronique Branquinho, she has to...  negative\n",
              "3     01082688c6                                        happy bday!  positive\n",
              "4     33987a8ee5             http://twitpic.com/4w75p - I like it!!  positive\n",
              "...          ...                                                ...       ...\n",
              "3529  e5f0e6ef4b  its at 3 am, im very tired but i can`t sleep  ...  negative\n",
              "3530  416863ce47  All alone in this old house again.  Thanks for...  positive\n",
              "3531  6332da480c   I know what you mean. My little dog is sinkin...  negative\n",
              "3532  df1baec676  _sutra what is your next youtube video gonna b...  positive\n",
              "3533  469e15c5a8   http://twitpic.com/4woj2 - omgssh  ang cute n...  positive\n",
              "\n",
              "[3534 rows x 3 columns]"
            ],
            "text/html": [
              "\n",
              "  <div id=\"df-23d377fe-680b-4bd4-86e8-fa27ff328f92\">\n",
              "    <div class=\"colab-df-container\">\n",
              "      <div>\n",
              "<style scoped>\n",
              "    .dataframe tbody tr th:only-of-type {\n",
              "        vertical-align: middle;\n",
              "    }\n",
              "\n",
              "    .dataframe tbody tr th {\n",
              "        vertical-align: top;\n",
              "    }\n",
              "\n",
              "    .dataframe thead th {\n",
              "        text-align: right;\n",
              "    }\n",
              "</style>\n",
              "<table border=\"1\" class=\"dataframe\">\n",
              "  <thead>\n",
              "    <tr style=\"text-align: right;\">\n",
              "      <th></th>\n",
              "      <th>textID</th>\n",
              "      <th>text</th>\n",
              "      <th>sentiment</th>\n",
              "    </tr>\n",
              "  </thead>\n",
              "  <tbody>\n",
              "    <tr>\n",
              "      <th>0</th>\n",
              "      <td>f87dea47db</td>\n",
              "      <td>Last session of the day  http://twitpic.com/67ezh</td>\n",
              "      <td>neutral</td>\n",
              "    </tr>\n",
              "    <tr>\n",
              "      <th>1</th>\n",
              "      <td>96d74cb729</td>\n",
              "      <td>Shanghai is also really exciting (precisely -...</td>\n",
              "      <td>positive</td>\n",
              "    </tr>\n",
              "    <tr>\n",
              "      <th>2</th>\n",
              "      <td>eee518ae67</td>\n",
              "      <td>Recession hit Veronique Branquinho, she has to...</td>\n",
              "      <td>negative</td>\n",
              "    </tr>\n",
              "    <tr>\n",
              "      <th>3</th>\n",
              "      <td>01082688c6</td>\n",
              "      <td>happy bday!</td>\n",
              "      <td>positive</td>\n",
              "    </tr>\n",
              "    <tr>\n",
              "      <th>4</th>\n",
              "      <td>33987a8ee5</td>\n",
              "      <td>http://twitpic.com/4w75p - I like it!!</td>\n",
              "      <td>positive</td>\n",
              "    </tr>\n",
              "    <tr>\n",
              "      <th>...</th>\n",
              "      <td>...</td>\n",
              "      <td>...</td>\n",
              "      <td>...</td>\n",
              "    </tr>\n",
              "    <tr>\n",
              "      <th>3529</th>\n",
              "      <td>e5f0e6ef4b</td>\n",
              "      <td>its at 3 am, im very tired but i can`t sleep  ...</td>\n",
              "      <td>negative</td>\n",
              "    </tr>\n",
              "    <tr>\n",
              "      <th>3530</th>\n",
              "      <td>416863ce47</td>\n",
              "      <td>All alone in this old house again.  Thanks for...</td>\n",
              "      <td>positive</td>\n",
              "    </tr>\n",
              "    <tr>\n",
              "      <th>3531</th>\n",
              "      <td>6332da480c</td>\n",
              "      <td>I know what you mean. My little dog is sinkin...</td>\n",
              "      <td>negative</td>\n",
              "    </tr>\n",
              "    <tr>\n",
              "      <th>3532</th>\n",
              "      <td>df1baec676</td>\n",
              "      <td>_sutra what is your next youtube video gonna b...</td>\n",
              "      <td>positive</td>\n",
              "    </tr>\n",
              "    <tr>\n",
              "      <th>3533</th>\n",
              "      <td>469e15c5a8</td>\n",
              "      <td>http://twitpic.com/4woj2 - omgssh  ang cute n...</td>\n",
              "      <td>positive</td>\n",
              "    </tr>\n",
              "  </tbody>\n",
              "</table>\n",
              "<p>3534 rows × 3 columns</p>\n",
              "</div>\n",
              "      <button class=\"colab-df-convert\" onclick=\"convertToInteractive('df-23d377fe-680b-4bd4-86e8-fa27ff328f92')\"\n",
              "              title=\"Convert this dataframe to an interactive table.\"\n",
              "              style=\"display:none;\">\n",
              "        \n",
              "  <svg xmlns=\"http://www.w3.org/2000/svg\" height=\"24px\"viewBox=\"0 0 24 24\"\n",
              "       width=\"24px\">\n",
              "    <path d=\"M0 0h24v24H0V0z\" fill=\"none\"/>\n",
              "    <path d=\"M18.56 5.44l.94 2.06.94-2.06 2.06-.94-2.06-.94-.94-2.06-.94 2.06-2.06.94zm-11 1L8.5 8.5l.94-2.06 2.06-.94-2.06-.94L8.5 2.5l-.94 2.06-2.06.94zm10 10l.94 2.06.94-2.06 2.06-.94-2.06-.94-.94-2.06-.94 2.06-2.06.94z\"/><path d=\"M17.41 7.96l-1.37-1.37c-.4-.4-.92-.59-1.43-.59-.52 0-1.04.2-1.43.59L10.3 9.45l-7.72 7.72c-.78.78-.78 2.05 0 2.83L4 21.41c.39.39.9.59 1.41.59.51 0 1.02-.2 1.41-.59l7.78-7.78 2.81-2.81c.8-.78.8-2.07 0-2.86zM5.41 20L4 18.59l7.72-7.72 1.47 1.35L5.41 20z\"/>\n",
              "  </svg>\n",
              "      </button>\n",
              "      \n",
              "  <style>\n",
              "    .colab-df-container {\n",
              "      display:flex;\n",
              "      flex-wrap:wrap;\n",
              "      gap: 12px;\n",
              "    }\n",
              "\n",
              "    .colab-df-convert {\n",
              "      background-color: #E8F0FE;\n",
              "      border: none;\n",
              "      border-radius: 50%;\n",
              "      cursor: pointer;\n",
              "      display: none;\n",
              "      fill: #1967D2;\n",
              "      height: 32px;\n",
              "      padding: 0 0 0 0;\n",
              "      width: 32px;\n",
              "    }\n",
              "\n",
              "    .colab-df-convert:hover {\n",
              "      background-color: #E2EBFA;\n",
              "      box-shadow: 0px 1px 2px rgba(60, 64, 67, 0.3), 0px 1px 3px 1px rgba(60, 64, 67, 0.15);\n",
              "      fill: #174EA6;\n",
              "    }\n",
              "\n",
              "    [theme=dark] .colab-df-convert {\n",
              "      background-color: #3B4455;\n",
              "      fill: #D2E3FC;\n",
              "    }\n",
              "\n",
              "    [theme=dark] .colab-df-convert:hover {\n",
              "      background-color: #434B5C;\n",
              "      box-shadow: 0px 1px 3px 1px rgba(0, 0, 0, 0.15);\n",
              "      filter: drop-shadow(0px 1px 2px rgba(0, 0, 0, 0.3));\n",
              "      fill: #FFFFFF;\n",
              "    }\n",
              "  </style>\n",
              "\n",
              "      <script>\n",
              "        const buttonEl =\n",
              "          document.querySelector('#df-23d377fe-680b-4bd4-86e8-fa27ff328f92 button.colab-df-convert');\n",
              "        buttonEl.style.display =\n",
              "          google.colab.kernel.accessAllowed ? 'block' : 'none';\n",
              "\n",
              "        async function convertToInteractive(key) {\n",
              "          const element = document.querySelector('#df-23d377fe-680b-4bd4-86e8-fa27ff328f92');\n",
              "          const dataTable =\n",
              "            await google.colab.kernel.invokeFunction('convertToInteractive',\n",
              "                                                     [key], {});\n",
              "          if (!dataTable) return;\n",
              "\n",
              "          const docLinkHtml = 'Like what you see? Visit the ' +\n",
              "            '<a target=\"_blank\" href=https://colab.research.google.com/notebooks/data_table.ipynb>data table notebook</a>'\n",
              "            + ' to learn more about interactive tables.';\n",
              "          element.innerHTML = '';\n",
              "          dataTable['output_type'] = 'display_data';\n",
              "          await google.colab.output.renderOutput(dataTable, element);\n",
              "          const docLink = document.createElement('div');\n",
              "          docLink.innerHTML = docLinkHtml;\n",
              "          element.appendChild(docLink);\n",
              "        }\n",
              "      </script>\n",
              "    </div>\n",
              "  </div>\n",
              "  "
            ]
          },
          "metadata": {},
          "execution_count": 125
        }
      ]
    },
    {
      "cell_type": "code",
      "execution_count": 127,
      "metadata": {
        "colab": {
          "base_uri": "https://localhost:8080/",
          "height": 1000
        },
        "id": "a45COOcyoZ_y",
        "outputId": "4cd39b68-4edf-49d1-cadd-bfe2001dd800"
      },
      "outputs": [
        {
          "output_type": "stream",
          "name": "stderr",
          "text": [
            "/usr/local/lib/python3.7/dist-packages/seaborn/categorical.py:3775: UserWarning: catplot is a figure-level function and does not accept target axes. You may wish to try countplot\n",
            "  warnings.warn(msg, UserWarning)\n"
          ]
        },
        {
          "output_type": "display_data",
          "data": {
            "text/plain": [
              "<Figure size 432x288 with 1 Axes>"
            ],
            "image/png": "[encoded data removed]"
          },
          "metadata": {}
        },
        {
          "output_type": "display_data",
          "data": {
            "text/plain": [
              "<Figure size 720x432 with 1 Axes>"
            ],
            "image/png": "[encoded data removed]"
          },
          "metadata": {}
        },
        {
          "output_type": "display_data",
          "data": {
            "text/plain": [
              "<Figure size 360x360 with 1 Axes>"
            ],
            "image/png": "[encoded data removed]"
          },
          "metadata": {}
        }
      ],
      "source": [
        "#EDA\n",
        "sns.set(font_scale=1.5)\n",
        "d = {'color': ['r', 'b',]}\n",
        "df_train['sentiment'].value_counts(normalize= True).plot.bar(color = 'orange').set_title(\"Percentage of different tweets sentiment distribution\")\n",
        "_, plt2 = plt.subplots(figsize=(10, 6))\n",
        "\n",
        "sns.catplot(x='sentiment', kind = \"count\", data=df_train, ax = plt2).set(title = 'Count of Various sentiments');\n",
        "sns.violinplot(x='sentiment', y = df_train.text.str.len(), data=df_train, ax = plt2).set(title = 'Text Character distribution for each sentiment');\n"
      ]
    },
    {
      "cell_type": "code",
      "execution_count": 128,
      "metadata": {
        "id": "ewMW_o4Lph6x"
      },
      "outputs": [],
      "source": [
        "# function to remove all character and URL'S except whitespace, space, star, comma and apostrophe\n",
        "import re\n",
        "def preprocess(text):\n",
        "    text = text.lower() \n",
        "    text=text.strip()  \n",
        "    text = re.sub(r'[^\\w\\s\\*\\'\\,]+', '', text) \n",
        "    text = re.sub(r\"http\\S+\", \"\", text)\n",
        "    return text"
      ]
    },
    {
      "cell_type": "code",
      "execution_count": 129,
      "metadata": {
        "id": "BBBDgZSSpmf_"
      },
      "outputs": [],
      "source": [
        "df_train['text'] = df_train['text'].apply(lambda x: preprocess(x))\n",
        "df_train['selected_text'] = df_train['selected_text'].apply(lambda x: preprocess(x))\n",
        "df_train = df_train.dropna()"
      ]
    },
    {
      "cell_type": "code",
      "source": [
        "df_test['text'] = df_test['text'].apply(lambda x: preprocess(x))\n",
        "df_test['text'] = df_test['text'].replace(r'^s*$', float('NaN'), regex = True)\n",
        "df_test.dropna(subset = [\"text\"], inplace=True)\n",
        "text_length = df_test['text'].apply(lambda x: len(str(x).split()))\n",
        "if 'text_len' not in df_test:\n",
        "    df_test.insert(3, 'text_len', text_length)"
      ],
      "metadata": {
        "id": "qJ16VOzMcrEb"
      },
      "execution_count": 130,
      "outputs": []
    },
    {
      "cell_type": "markdown",
      "source": [
        "For test data from test CSV file remove the special character similar to the way it has been removed in train dataset then create a text_length column"
      ],
      "metadata": {
        "id": "28SC_H5ncsXW"
      }
    },
    {
      "cell_type": "code",
      "execution_count": 131,
      "metadata": {
        "colab": {
          "base_uri": "https://localhost:8080/",
          "height": 423
        },
        "id": "b86rjRGo0thl",
        "outputId": "375e48ff-00f8-434c-aca7-2571a0921572"
      },
      "outputs": [
        {
          "output_type": "execute_result",
          "data": {
            "text/plain": [
              "           textID                                               text  \\\n",
              "0      cb774db0d1                 id have responded, if i were going   \n",
              "1      549e992a42         sooo sad i will miss you here in san diego   \n",
              "2      088c60f138                             my boss is bullying me   \n",
              "3      9642c003ef                      what interview leave me alone   \n",
              "4      358bd9e861  sons of ****, why couldnt they put them on the...   \n",
              "...           ...                                                ...   \n",
              "27476  4eac33d1c0  wish we could come see u on denver  husband lo...   \n",
              "27477  4f4c4fc327  ive wondered about rake to  the client has mad...   \n",
              "27478  f67aae2310  yay good for both of you enjoy the break  you ...   \n",
              "27479  ed167662a5                          but it was worth it  ****   \n",
              "27480  6f7127d9d7  all this flirting going on  the atg smiles yay...   \n",
              "\n",
              "       text_len                                      selected_text  \\\n",
              "0             7                 id have responded, if i were going   \n",
              "1            10                                           sooo sad   \n",
              "2             5                                        bullying me   \n",
              "3             5                                     leave me alone   \n",
              "4            14                                      sons of ****,   \n",
              "...         ...                                                ...   \n",
              "27476        16                                             d lost   \n",
              "27477        23                                       , dont force   \n",
              "27478        21                           yay good for both of you   \n",
              "27479         6                          but it was worth it  ****   \n",
              "27480        10  all this flirting going on  the atg smiles yay...   \n",
              "\n",
              "       selected_text_len sentiment  \n",
              "0                      7   neutral  \n",
              "1                      2  negative  \n",
              "2                      2  negative  \n",
              "3                      3  negative  \n",
              "4                      3  negative  \n",
              "...                  ...       ...  \n",
              "27476                  2  negative  \n",
              "27477                  3  negative  \n",
              "27478                  6  positive  \n",
              "27479                  6  positive  \n",
              "27480                 10   neutral  \n",
              "\n",
              "[27479 rows x 6 columns]"
            ],
            "text/html": [
              "\n",
              "  <div id=\"df-35981895-30d1-4d7f-9aa0-b556aa9043e0\">\n",
              "    <div class=\"colab-df-container\">\n",
              "      <div>\n",
              "<style scoped>\n",
              "    .dataframe tbody tr th:only-of-type {\n",
              "        vertical-align: middle;\n",
              "    }\n",
              "\n",
              "    .dataframe tbody tr th {\n",
              "        vertical-align: top;\n",
              "    }\n",
              "\n",
              "    .dataframe thead th {\n",
              "        text-align: right;\n",
              "    }\n",
              "</style>\n",
              "<table border=\"1\" class=\"dataframe\">\n",
              "  <thead>\n",
              "    <tr style=\"text-align: right;\">\n",
              "      <th></th>\n",
              "      <th>textID</th>\n",
              "      <th>text</th>\n",
              "      <th>text_len</th>\n",
              "      <th>selected_text</th>\n",
              "      <th>selected_text_len</th>\n",
              "      <th>sentiment</th>\n",
              "    </tr>\n",
              "  </thead>\n",
              "  <tbody>\n",
              "    <tr>\n",
              "      <th>0</th>\n",
              "      <td>cb774db0d1</td>\n",
              "      <td>id have responded, if i were going</td>\n",
              "      <td>7</td>\n",
              "      <td>id have responded, if i were going</td>\n",
              "      <td>7</td>\n",
              "      <td>neutral</td>\n",
              "    </tr>\n",
              "    <tr>\n",
              "      <th>1</th>\n",
              "      <td>549e992a42</td>\n",
              "      <td>sooo sad i will miss you here in san diego</td>\n",
              "      <td>10</td>\n",
              "      <td>sooo sad</td>\n",
              "      <td>2</td>\n",
              "      <td>negative</td>\n",
              "    </tr>\n",
              "    <tr>\n",
              "      <th>2</th>\n",
              "      <td>088c60f138</td>\n",
              "      <td>my boss is bullying me</td>\n",
              "      <td>5</td>\n",
              "      <td>bullying me</td>\n",
              "      <td>2</td>\n",
              "      <td>negative</td>\n",
              "    </tr>\n",
              "    <tr>\n",
              "      <th>3</th>\n",
              "      <td>9642c003ef</td>\n",
              "      <td>what interview leave me alone</td>\n",
              "      <td>5</td>\n",
              "      <td>leave me alone</td>\n",
              "      <td>3</td>\n",
              "      <td>negative</td>\n",
              "    </tr>\n",
              "    <tr>\n",
              "      <th>4</th>\n",
              "      <td>358bd9e861</td>\n",
              "      <td>sons of ****, why couldnt they put them on the...</td>\n",
              "      <td>14</td>\n",
              "      <td>sons of ****,</td>\n",
              "      <td>3</td>\n",
              "      <td>negative</td>\n",
              "    </tr>\n",
              "    <tr>\n",
              "      <th>...</th>\n",
              "      <td>...</td>\n",
              "      <td>...</td>\n",
              "      <td>...</td>\n",
              "      <td>...</td>\n",
              "      <td>...</td>\n",
              "      <td>...</td>\n",
              "    </tr>\n",
              "    <tr>\n",
              "      <th>27476</th>\n",
              "      <td>4eac33d1c0</td>\n",
              "      <td>wish we could come see u on denver  husband lo...</td>\n",
              "      <td>16</td>\n",
              "      <td>d lost</td>\n",
              "      <td>2</td>\n",
              "      <td>negative</td>\n",
              "    </tr>\n",
              "    <tr>\n",
              "      <th>27477</th>\n",
              "      <td>4f4c4fc327</td>\n",
              "      <td>ive wondered about rake to  the client has mad...</td>\n",
              "      <td>23</td>\n",
              "      <td>, dont force</td>\n",
              "      <td>3</td>\n",
              "      <td>negative</td>\n",
              "    </tr>\n",
              "    <tr>\n",
              "      <th>27478</th>\n",
              "      <td>f67aae2310</td>\n",
              "      <td>yay good for both of you enjoy the break  you ...</td>\n",
              "      <td>21</td>\n",
              "      <td>yay good for both of you</td>\n",
              "      <td>6</td>\n",
              "      <td>positive</td>\n",
              "    </tr>\n",
              "    <tr>\n",
              "      <th>27479</th>\n",
              "      <td>ed167662a5</td>\n",
              "      <td>but it was worth it  ****</td>\n",
              "      <td>6</td>\n",
              "      <td>but it was worth it  ****</td>\n",
              "      <td>6</td>\n",
              "      <td>positive</td>\n",
              "    </tr>\n",
              "    <tr>\n",
              "      <th>27480</th>\n",
              "      <td>6f7127d9d7</td>\n",
              "      <td>all this flirting going on  the atg smiles yay...</td>\n",
              "      <td>10</td>\n",
              "      <td>all this flirting going on  the atg smiles yay...</td>\n",
              "      <td>10</td>\n",
              "      <td>neutral</td>\n",
              "    </tr>\n",
              "  </tbody>\n",
              "</table>\n",
              "<p>27479 rows × 6 columns</p>\n",
              "</div>\n",
              "      <button class=\"colab-df-convert\" onclick=\"convertToInteractive('df-35981895-30d1-4d7f-9aa0-b556aa9043e0')\"\n",
              "              title=\"Convert this dataframe to an interactive table.\"\n",
              "              style=\"display:none;\">\n",
              "        \n",
              "  <svg xmlns=\"http://www.w3.org/2000/svg\" height=\"24px\"viewBox=\"0 0 24 24\"\n",
              "       width=\"24px\">\n",
              "    <path d=\"M0 0h24v24H0V0z\" fill=\"none\"/>\n",
              "    <path d=\"M18.56 5.44l.94 2.06.94-2.06 2.06-.94-2.06-.94-.94-2.06-.94 2.06-2.06.94zm-11 1L8.5 8.5l.94-2.06 2.06-.94-2.06-.94L8.5 2.5l-.94 2.06-2.06.94zm10 10l.94 2.06.94-2.06 2.06-.94-2.06-.94-.94-2.06-.94 2.06-2.06.94z\"/><path d=\"M17.41 7.96l-1.37-1.37c-.4-.4-.92-.59-1.43-.59-.52 0-1.04.2-1.43.59L10.3 9.45l-7.72 7.72c-.78.78-.78 2.05 0 2.83L4 21.41c.39.39.9.59 1.41.59.51 0 1.02-.2 1.41-.59l7.78-7.78 2.81-2.81c.8-.78.8-2.07 0-2.86zM5.41 20L4 18.59l7.72-7.72 1.47 1.35L5.41 20z\"/>\n",
              "  </svg>\n",
              "      </button>\n",
              "      \n",
              "  <style>\n",
              "    .colab-df-container {\n",
              "      display:flex;\n",
              "      flex-wrap:wrap;\n",
              "      gap: 12px;\n",
              "    }\n",
              "\n",
              "    .colab-df-convert {\n",
              "      background-color: #E8F0FE;\n",
              "      border: none;\n",
              "      border-radius: 50%;\n",
              "      cursor: pointer;\n",
              "      display: none;\n",
              "      fill: #1967D2;\n",
              "      height: 32px;\n",
              "      padding: 0 0 0 0;\n",
              "      width: 32px;\n",
              "    }\n",
              "\n",
              "    .colab-df-convert:hover {\n",
              "      background-color: #E2EBFA;\n",
              "      box-shadow: 0px 1px 2px rgba(60, 64, 67, 0.3), 0px 1px 3px 1px rgba(60, 64, 67, 0.15);\n",
              "      fill: #174EA6;\n",
              "    }\n",
              "\n",
              "    [theme=dark] .colab-df-convert {\n",
              "      background-color: #3B4455;\n",
              "      fill: #D2E3FC;\n",
              "    }\n",
              "\n",
              "    [theme=dark] .colab-df-convert:hover {\n",
              "      background-color: #434B5C;\n",
              "      box-shadow: 0px 1px 3px 1px rgba(0, 0, 0, 0.15);\n",
              "      filter: drop-shadow(0px 1px 2px rgba(0, 0, 0, 0.3));\n",
              "      fill: #FFFFFF;\n",
              "    }\n",
              "  </style>\n",
              "\n",
              "      <script>\n",
              "        const buttonEl =\n",
              "          document.querySelector('#df-35981895-30d1-4d7f-9aa0-b556aa9043e0 button.colab-df-convert');\n",
              "        buttonEl.style.display =\n",
              "          google.colab.kernel.accessAllowed ? 'block' : 'none';\n",
              "\n",
              "        async function convertToInteractive(key) {\n",
              "          const element = document.querySelector('#df-35981895-30d1-4d7f-9aa0-b556aa9043e0');\n",
              "          const dataTable =\n",
              "            await google.colab.kernel.invokeFunction('convertToInteractive',\n",
              "                                                     [key], {});\n",
              "          if (!dataTable) return;\n",
              "\n",
              "          const docLinkHtml = 'Like what you see? Visit the ' +\n",
              "            '<a target=\"_blank\" href=https://colab.research.google.com/notebooks/data_table.ipynb>data table notebook</a>'\n",
              "            + ' to learn more about interactive tables.';\n",
              "          element.innerHTML = '';\n",
              "          dataTable['output_type'] = 'display_data';\n",
              "          await google.colab.output.renderOutput(dataTable, element);\n",
              "          const docLink = document.createElement('div');\n",
              "          docLink.innerHTML = docLinkHtml;\n",
              "          element.appendChild(docLink);\n",
              "        }\n",
              "      </script>\n",
              "    </div>\n",
              "  </div>\n",
              "  "
            ]
          },
          "metadata": {},
          "execution_count": 131
        }
      ],
      "source": [
        "# replace all empty values with NaN\n",
        "df_train['text'] = df_train['text'].replace(r'^s*$', float('NaN'), regex = True)\n",
        "df_train['selected_text'] = df_train['selected_text'].replace(r'^s*$', float('NaN'), regex = True)\n",
        "df_train.dropna(subset = [\"text\", \"selected_text\"], inplace=True)\n",
        "text_length = df_train['text'].apply(lambda x: len(str(x).split()))\n",
        "selected_text_length = df_train['selected_text'].apply(lambda x: len(str(x).split()))\n",
        "if 'text_len' not in df_train and 'selected_text_len' not in df_train:\n",
        "    df_train.insert(2, 'text_len', text_length)\n",
        "    df_train.insert(4, 'selected_text_len', selected_text_length)\n",
        "df_train"
      ]
    },
    {
      "cell_type": "code",
      "execution_count": 132,
      "metadata": {
        "id": "AHxTp_-Zql_H"
      },
      "outputs": [],
      "source": [
        "# function to get the start and end index of the selected text\n",
        "def get_start_end_index(col):\n",
        "    text, sel_text = col[0], col[1]\n",
        "    text_val = text.split()\n",
        "    sel_text = sel_text.split()\n",
        "    index_start = sel_text[0]\n",
        "    index_end = sel_text[-1]\n",
        "    if index_start in text_val and index_end in text_val:\n",
        "      index_start = text_val.index(sel_text[0])\n",
        "      index_end = text_val.index(sel_text[-1])\n",
        "    else:\n",
        "      index_start = -1\n",
        "      index_end = -1\n",
        "    return index_start, index_end"
      ]
    },
    {
      "cell_type": "code",
      "execution_count": 133,
      "metadata": {
        "colab": {
          "base_uri": "https://localhost:8080/"
        },
        "id": "AskbYQ2SH0ij",
        "outputId": "63867149-510a-4b5a-ffda-2c835ba06328"
      },
      "outputs": [
        {
          "output_type": "stream",
          "name": "stderr",
          "text": [
            "/usr/local/lib/python3.7/dist-packages/ipykernel_launcher.py:2: FutureWarning: The default value of regex will change from True to False in a future version. In addition, single character regular expressions will *not* be treated as literal strings when regex=True.\n",
            "  \n"
          ]
        }
      ],
      "source": [
        "df_train['indices'] = df_train[['text','selected_text']].apply(lambda x:get_start_end_index(x),axis=1)\n",
        "df_train[['start_index','end_index']] = df_train['indices'].astype(str).str.replace('(','').str.replace(')','').str.split(',', expand= True)\n",
        "df_train = df_train.drop(['indices'], axis = 1)"
      ]
    },
    {
      "cell_type": "markdown",
      "source": [
        "Dropping those indices where start and end index of selected text is not present inside text column"
      ],
      "metadata": {
        "id": "tcfeKUiYOYKP"
      }
    },
    {
      "cell_type": "code",
      "execution_count": 134,
      "metadata": {
        "colab": {
          "base_uri": "https://localhost:8080/"
        },
        "id": "r-bq6aWrj-7c",
        "outputId": "7b45906b-ec63-47a4-c28f-77510c34ea44"
      },
      "outputs": [
        {
          "output_type": "stream",
          "name": "stderr",
          "text": [
            "/usr/local/lib/python3.7/dist-packages/ipykernel_launcher.py:2: SettingWithCopyWarning: \n",
            "A value is trying to be set on a copy of a slice from a DataFrame.\n",
            "Try using .loc[row_indexer,col_indexer] = value instead\n",
            "\n",
            "See the caveats in the documentation: https://pandas.pydata.org/pandas-docs/stable/user_guide/indexing.html#returning-a-view-versus-a-copy\n",
            "  \n",
            "/usr/local/lib/python3.7/dist-packages/ipykernel_launcher.py:3: SettingWithCopyWarning: \n",
            "A value is trying to be set on a copy of a slice from a DataFrame.\n",
            "Try using .loc[row_indexer,col_indexer] = value instead\n",
            "\n",
            "See the caveats in the documentation: https://pandas.pydata.org/pandas-docs/stable/user_guide/indexing.html#returning-a-view-versus-a-copy\n",
            "  This is separate from the ipykernel package so we can avoid doing imports until\n"
          ]
        },
        {
          "output_type": "execute_result",
          "data": {
            "text/plain": [
              "textID               object\n",
              "text                 object\n",
              "text_len              int64\n",
              "selected_text        object\n",
              "selected_text_len     int64\n",
              "sentiment            object\n",
              "start_index           int64\n",
              "end_index             int64\n",
              "dtype: object"
            ]
          },
          "metadata": {},
          "execution_count": 134
        }
      ],
      "source": [
        "df_train = df_train[(df_train.start_index.astype(int) >-1) & (df_train.end_index.astype(int) > -1)]\n",
        "df_train['start_index'] = df_train['start_index'].astype(str).astype(int)\n",
        "df_train['end_index'] = df_train['end_index'].astype(str).astype(int)\n",
        "df_train.dtypes"
      ]
    },
    {
      "cell_type": "code",
      "execution_count": 135,
      "metadata": {
        "colab": {
          "base_uri": "https://localhost:8080/",
          "height": 294
        },
        "id": "7hIsSjiIadpA",
        "outputId": "a3fbc247-5711-41c3-f813-b6a77449797d"
      },
      "outputs": [
        {
          "output_type": "display_data",
          "data": {
            "text/plain": [
              "<Figure size 864x288 with 3 Axes>"
            ],
            "image/png": "[encoded data removed]"
          },
          "metadata": {}
        }
      ],
      "source": [
        "d = {'color': ['r']}\n",
        "sns.set(font_scale=1.5)\n",
        "g=sns.FacetGrid(data=df_train,col='sentiment',height=4, hue_kws= d);\n",
        "g.map(sns.kdeplot,'text_len');\n",
        "plt.subplots_adjust(top=0.80)\n",
        "g.fig.suptitle('Text length/Words distribution of different sentiments');"
      ]
    },
    {
      "cell_type": "markdown",
      "source": [
        "Exploratory Data Analysis of Original sentence(text column) and words count for differnt sentiments .\n",
        "Majority of the tweets text word fall in range 15 to 25 for all sentiment categories. For all sentiment categories, only few tweets of text word counts greater than 30 or less than 5.\n",
        "Maximum words for the longest tweet is 33, while minimum is 2."
      ],
      "metadata": {
        "id": "s1Jf5TT3Og9W"
      }
    },
    {
      "cell_type": "code",
      "execution_count": 136,
      "metadata": {
        "colab": {
          "base_uri": "https://localhost:8080/",
          "height": 294
        },
        "id": "EzeH8mBeenMF",
        "outputId": "20f0040e-1aa7-45ce-e6f1-3cab9bf3f0b4"
      },
      "outputs": [
        {
          "output_type": "display_data",
          "data": {
            "text/plain": [
              "<Figure size 864x288 with 3 Axes>"
            ],
            "image/png": "[encoded data removed]"
          },
          "metadata": {}
        }
      ],
      "source": [
        "d = {'color': ['g']}\n",
        "g=sns.FacetGrid(data=df_train,col='sentiment',height=4, hue_kws= d);\n",
        "g.map(sns.kdeplot,'selected_text_len');\n",
        "plt.subplots_adjust(top=0.80)\n",
        "g.fig.suptitle('Selected_Text length/Words distribution of different sentiments');"
      ]
    },
    {
      "cell_type": "markdown",
      "source": [
        "Neutral tweets are mostly lying in range [2 to 15] while positive and negative tweets are in range [2 to 5].\n",
        "For positive and negative sentiment categories, only few tweets of text word counts greater than 10.\n",
        "Neutral tweets text words are counting up to 30, very few sentence text words are going beyond 30."
      ],
      "metadata": {
        "id": "2J6y8MGIPM-C"
      }
    },
    {
      "cell_type": "code",
      "execution_count": 137,
      "metadata": {
        "id": "NwHVqYKO4wBK"
      },
      "outputs": [],
      "source": [
        "X = df_train[['text','sentiment']]\n",
        "y = df_train[['start_index','end_index']]\n",
        "\n",
        "# for test data\n",
        "X_test_testdata = df_test[['text','sentiment']]"
      ]
    },
    {
      "cell_type": "code",
      "execution_count": 138,
      "metadata": {
        "id": "Yh-UBkGG4_Vu"
      },
      "outputs": [],
      "source": [
        "# train test split and validation split\n",
        "X_train, X_test, ytrain, ytest = train_test_split(X, y, test_size=0.2, random_state= 1)\n",
        "X_train_v, X_val, ytrain_v, yval = train_test_split(X_train, ytrain, test_size= 0.2)"
      ]
    },
    {
      "cell_type": "code",
      "execution_count": 139,
      "metadata": {
        "id": "ztQ2RXd76-zJ"
      },
      "outputs": [],
      "source": [
        "def get_train_val_split():\n",
        "    train_text = X_train_v['text'].values.astype(str)\n",
        "    val_text = X_val['text'].values.astype(str)\n",
        "    train_sentiment = X_train_v['sentiment'].values.astype(str)\n",
        "    val_sentiment = X_val['sentiment'].values.astype(str)\n",
        "    return train_text, val_text, train_sentiment, val_sentiment"
      ]
    },
    {
      "cell_type": "code",
      "execution_count": 140,
      "metadata": {
        "id": "hgG3NSFYIItF"
      },
      "outputs": [],
      "source": [
        "max_length_text = df_train['text_len'].max() #33\n",
        "max_length_text_test = df_test['text_len'].max() # 32\n",
        "max_length_sentiment= 1\n",
        "def convert_to_Vector(input_text_sen, input_val_sen, max_length_text_sen):\n",
        "    t_text_sentiment = Tokenizer(lower=True,split=' ',oov_token='oov')\n",
        "    t_text_sentiment.fit_on_texts(input_text_sen)\n",
        "    input_text_sen = t_text_sentiment.texts_to_sequences(input_text_sen)\n",
        "    input_val_sen = t_text_sentiment.texts_to_sequences(input_val_sen)\n",
        "    input_text_sen = pad_sequences(input_text_sen, maxlen=max_length_text_sen,padding='post')\n",
        "    input_val_sen = pad_sequences(input_val_sen, maxlen=max_length_text_sen,padding='post')\n",
        "    return input_text_sen,input_val_sen, t_text_sentiment\n",
        "\n",
        "train_text, val_text, train_sentiment, val_sentiment = get_train_val_split()\n",
        "train_text,val_text, t_text = convert_to_Vector(train_text, val_text, max_length_text)\n",
        "train_sentiment,val_sentiment, t_sentiment = convert_to_Vector(train_sentiment, val_sentiment, max_length_sentiment)"
      ]
    },
    {
      "cell_type": "markdown",
      "source": [
        "Transforming the text into integers and padding them to equal length. As we are dealing with text column which contains words/texts from different tweets. Also each data point is going to be of distinctive lengths. Therefore, conversion of text data into number is required and after that we are padding all the data points to have the similarity between the length of input.\n",
        "\n",
        "using **fit_on_text**, **texts_to_sequences** and **pad_sequences** for converting the texts into number with similar length.\n",
        "\n",
        "used **'oov'** out of vocubalry tokenizer to get some token value for non existence text\n",
        "\n"
      ],
      "metadata": {
        "id": "xdxRC4AvQIHo"
      }
    },
    {
      "cell_type": "code",
      "source": [
        "def getvocab(input_text_sen, input_val_sen, t_text_sentiment):\n",
        "    vocab_text_sen=len(t_text_sentiment.word_index)+1\n",
        "    return vocab_text_sen\n",
        "\n",
        "vocab_text = getvocab(train_text, val_text, t_text)\n",
        "print(vocab_text)\n",
        "vocab_sentiment = getvocab(train_sentiment, val_sentiment, t_sentiment)\n",
        "print(vocab_sentiment)"
      ],
      "metadata": {
        "colab": {
          "base_uri": "https://localhost:8080/"
        },
        "id": "bhqdqkKlpJMF",
        "outputId": "e83161d0-9c29-4369-a387-7c399b4ce4aa"
      },
      "execution_count": 141,
      "outputs": [
        {
          "output_type": "stream",
          "name": "stdout",
          "text": [
            "20008\n",
            "5\n"
          ]
        }
      ]
    },
    {
      "cell_type": "code",
      "execution_count": 142,
      "metadata": {
        "colab": {
          "base_uri": "https://localhost:8080/"
        },
        "id": "McG3fYOPAwAK",
        "outputId": "1da3524a-27f5-470f-85ca-9e1ec8d79e16"
      },
      "outputs": [
        {
          "output_type": "stream",
          "name": "stdout",
          "text": [
            "max length of train data selected senetence is:  138\n"
          ]
        }
      ],
      "source": [
        "#max length of sentence\n",
        "print(\"max length of train data selected senetence is: \", df_train['selected_text'].apply(len).max())\n"
      ]
    },
    {
      "cell_type": "code",
      "execution_count": 143,
      "metadata": {
        "colab": {
          "base_uri": "https://localhost:8080/"
        },
        "id": "s-H_UFAg6MSz",
        "outputId": "d581467d-bbc4-46fc-866b-f9ab79596faa"
      },
      "outputs": [
        {
          "output_type": "stream",
          "name": "stdout",
          "text": [
            "Loaded 400001 word vectors.\n"
          ]
        }
      ],
      "source": [
        "from numpy import asarray\n",
        "from numpy import zeros\n",
        "embeddings_index = dict()\n",
        "f = open('/content/drive/MyDrive/Ml-twitter/glove.6B.300d.txt')\n",
        "for line in f:\n",
        "  values = line.split()\n",
        "  word = values[0]\n",
        "  coefs = asarray(values[1:], dtype='float32')\n",
        "  embeddings_index[word] = coefs\n",
        "f.close()\n",
        "print('Loaded %s word vectors.' % len(embeddings_index))\n"
      ]
    },
    {
      "cell_type": "markdown",
      "source": [
        "Glove works on computing a file mapping words to known embeddings called as glove record. It parses the data dump of pre-trained embeddings vectors.\n",
        "\n",
        "We are going to take both sentiment and text as input, therefore we are tranforming both of them into embeding matrix"
      ],
      "metadata": {
        "id": "iGJugw1uSbg8"
      }
    },
    {
      "cell_type": "code",
      "execution_count": 144,
      "metadata": {
        "colab": {
          "base_uri": "https://localhost:8080/"
        },
        "id": "fWuL6schIskl",
        "outputId": "80ccfa4c-e5ab-4702-8f14-5c317dd94f2f"
      },
      "outputs": [
        {
          "output_type": "stream",
          "name": "stdout",
          "text": [
            "(20008, 300)\n"
          ]
        }
      ],
      "source": [
        "embedding_matrix = zeros((vocab_text, 300))\n",
        "for word, index in t_text.word_index.items():\n",
        "  embedding_vector = embeddings_index.get(word)\n",
        "  if embedding_vector is not None:\n",
        "    embedding_matrix[index] = embedding_vector\n",
        "\n",
        "print(embedding_matrix.shape)"
      ]
    },
    {
      "cell_type": "markdown",
      "source": [
        "Getting embedding vector for test column, The embedding layer comprises of an embedding vector matrix, this matrix  contains a high-dimensional representation of a specific word, and these word is present in our training data"
      ],
      "metadata": {
        "id": "X3rBE4LqiJY9"
      }
    },
    {
      "cell_type": "code",
      "execution_count": 145,
      "metadata": {
        "colab": {
          "base_uri": "https://localhost:8080/"
        },
        "id": "mrLBQBMq3t4-",
        "outputId": "d7cdbe96-d754-492b-fda9-95b90413f044"
      },
      "outputs": [
        {
          "output_type": "stream",
          "name": "stdout",
          "text": [
            "(5, 300)\n"
          ]
        }
      ],
      "source": [
        "embedding_matrix_sentiment = zeros((vocab_sentiment, 300))\n",
        "for word, index in t_sentiment.word_index.items():\n",
        "  embedding_vector = embeddings_index.get(word)\n",
        "  if embedding_vector is not None:\n",
        "    embedding_matrix_sentiment[index] = embedding_vector\n",
        "\n",
        "print(embedding_matrix_sentiment.shape)"
      ]
    },
    {
      "cell_type": "markdown",
      "source": [
        "Getting embedding vector for sentiment column."
      ],
      "metadata": {
        "id": "ovcIDm81iRFi"
      }
    },
    {
      "cell_type": "code",
      "source": [
        "trainX = (train_text,train_sentiment)\n",
        "trainy = ytrain_v.values.astype(int)\n",
        "\n",
        "valX = (val_text, val_sentiment)\n",
        "valy = yval.values\n",
        "val_data = (valX,valy)"
      ],
      "metadata": {
        "id": "JFmwge60E2Sj"
      },
      "execution_count": 146,
      "outputs": []
    },
    {
      "cell_type": "code",
      "execution_count": 151,
      "metadata": {
        "colab": {
          "base_uri": "https://localhost:8080/",
          "height": 1000
        },
        "id": "-8hCHcC7BgYT",
        "outputId": "50cf485f-97b8-4a08-f694-13be983505a7"
      },
      "outputs": [
        {
          "output_type": "execute_result",
          "data": {
            "text/plain": [
              "<IPython.core.display.Image object>"
            ],
            "image/png": "[encoded data removed]"
          },
          "metadata": {},
          "execution_count": 151
        }
      ],
      "source": [
        "inputlayer1_text=Input(shape=(max_length_text,),name='input_text')\n",
        "embed1 = Embedding(vocab_text,300,input_length=max_length_text,name='embedding',\\\n",
        "                      trainable=False,embeddings_initializer=tf.constant_initializer(embedding_matrix))(inputlayer1_text)\n",
        "inputlayer2_sentiment = Input(shape=(1,),name='input_sentiment')\n",
        "embed2=Embedding(vocab_sentiment,300,input_length= max_length_sentiment,name='embedding_sentiment',\\\n",
        "                 trainable=False,embeddings_initializer=tf.constant_initializer(embedding_matrix_sentiment))(inputlayer2_sentiment)\n",
        "\n",
        "concat=Concatenate(axis=1)([embed1, embed2])\n",
        "gru= Bidirectional(GRU(64,name='GRU', return_sequences=True))(concat)\n",
        "f1=Flatten()(gru)\n",
        "denselayer1 = Dense(32,activation='relu',kernel_initializer=\"glorot_uniform\", kernel_regularizer=l2(0.0001))(f1)\n",
        "droplayer1 = Dropout(0.5)(denselayer1)\n",
        "ln= BatchNormalization()(droplayer1)\n",
        "denselayer2=Dense(8,activation='relu',kernel_initializer=\"glorot_uniform\", kernel_regularizer=l2(0.0001))(ln)\n",
        "output=Dense(2,name='output')(denselayer2)\n",
        "model=Model(inputs=[inputlayer1_text, inputlayer2_sentiment],outputs=[output])\n",
        "\n",
        "plot_model(model, to_file='model_plot_twitter_sentiment.png', show_shapes=True, show_layer_names=True)"
      ]
    },
    {
      "cell_type": "markdown",
      "source": [
        "The plotted model is the architecture of the GRU model with two input layer text and sentiment which is transformed into embedding layer and then concatenated. Later on We are feeding this layer to bi-rectional GRU which will be flatten and using two different hidden layer we are reaching to output layer with 2 output units"
      ],
      "metadata": {
        "id": "FO7jvaZeUOsL"
      }
    },
    {
      "cell_type": "code",
      "execution_count": 152,
      "metadata": {
        "colab": {
          "base_uri": "https://localhost:8080/"
        },
        "id": "t4irDsP7pG7O",
        "outputId": "31252dd3-35ea-447a-add4-1cda86c31f73"
      },
      "outputs": [
        {
          "output_type": "stream",
          "name": "stdout",
          "text": [
            "Model: \"model_5\"\n",
            "__________________________________________________________________________________________________\n",
            " Layer (type)                   Output Shape         Param #     Connected to                     \n",
            "==================================================================================================\n",
            " input_text (InputLayer)        [(None, 33)]         0           []                               \n",
            "                                                                                                  \n",
            " input_sentiment (InputLayer)   [(None, 1)]          0           []                               \n",
            "                                                                                                  \n",
            " embedding (Embedding)          (None, 33, 300)      6002400     ['input_text[0][0]']             \n",
            "                                                                                                  \n",
            " embedding_sentiment (Embedding  (None, 1, 300)      1500        ['input_sentiment[0][0]']        \n",
            " )                                                                                                \n",
            "                                                                                                  \n",
            " concatenate_5 (Concatenate)    (None, 34, 300)      0           ['embedding[0][0]',              \n",
            "                                                                  'embedding_sentiment[0][0]']    \n",
            "                                                                                                  \n",
            " bidirectional_5 (Bidirectional  (None, 34, 128)     140544      ['concatenate_5[0][0]']          \n",
            " )                                                                                                \n",
            "                                                                                                  \n",
            " flatten_5 (Flatten)            (None, 4352)         0           ['bidirectional_5[0][0]']        \n",
            "                                                                                                  \n",
            " dense_10 (Dense)               (None, 32)           139296      ['flatten_5[0][0]']              \n",
            "                                                                                                  \n",
            " dropout_5 (Dropout)            (None, 32)           0           ['dense_10[0][0]']               \n",
            "                                                                                                  \n",
            " batch_normalization_5 (BatchNo  (None, 32)          128         ['dropout_5[0][0]']              \n",
            " rmalization)                                                                                     \n",
            "                                                                                                  \n",
            " dense_11 (Dense)               (None, 8)            264         ['batch_normalization_5[0][0]']  \n",
            "                                                                                                  \n",
            " output (Dense)                 (None, 2)            18          ['dense_11[0][0]']               \n",
            "                                                                                                  \n",
            "==================================================================================================\n",
            "Total params: 6,284,150\n",
            "Trainable params: 280,186\n",
            "Non-trainable params: 6,003,964\n",
            "__________________________________________________________________________________________________\n"
          ]
        }
      ],
      "source": [
        "model.summary()"
      ]
    },
    {
      "cell_type": "code",
      "execution_count": 153,
      "metadata": {
        "id": "QHgVR8N4vEir"
      },
      "outputs": [],
      "source": [
        "model.compile(optimizer='adam',loss=\"mse\",metrics=[\"accuracy\"])\n",
        "mc = ModelCheckpoint('best_model_twiter.h5', monitor='val_accuracy', mode='max', verbose=1, save_best_only=True)\n",
        "es = EarlyStopping(monitor='val_loss', mode='min', verbose=1, patience=80)"
      ]
    },
    {
      "cell_type": "code",
      "execution_count": 154,
      "metadata": {
        "colab": {
          "base_uri": "https://localhost:8080/"
        },
        "id": "7OTGyp5FWZA-",
        "outputId": "f6ccf07b-7b3c-47ad-fe9f-0d8a253366b6"
      },
      "outputs": [
        {
          "output_type": "stream",
          "name": "stdout",
          "text": [
            "Epoch 1/200\n",
            "63/64 [============================>.] - ETA: 0s - loss: 56.6396 - accuracy: 0.6757\n",
            "Epoch 1: val_accuracy improved from -inf to 0.70167, saving model to best_model_twiter.h5\n",
            "64/64 [==============================] - 13s 148ms/step - loss: 56.5862 - accuracy: 0.6763 - val_loss: 47.0835 - val_accuracy: 0.7017\n",
            "Epoch 2/200\n",
            "63/64 [============================>.] - ETA: 0s - loss: 37.7567 - accuracy: 0.6986\n",
            "Epoch 2: val_accuracy did not improve from 0.70167\n",
            "64/64 [==============================] - 2s 35ms/step - loss: 37.6814 - accuracy: 0.6992 - val_loss: 26.3098 - val_accuracy: 0.6627\n",
            "Epoch 3/200\n",
            "63/64 [============================>.] - ETA: 0s - loss: 22.0240 - accuracy: 0.7215\n",
            "Epoch 3: val_accuracy improved from 0.70167 to 0.72915, saving model to best_model_twiter.h5\n",
            "64/64 [==============================] - 7s 108ms/step - loss: 21.9435 - accuracy: 0.7210 - val_loss: 16.6183 - val_accuracy: 0.7291\n",
            "Epoch 4/200\n",
            "63/64 [============================>.] - ETA: 0s - loss: 15.1699 - accuracy: 0.7298\n",
            "Epoch 4: val_accuracy improved from 0.72915 to 0.73356, saving model to best_model_twiter.h5\n",
            "64/64 [==============================] - 7s 107ms/step - loss: 15.1839 - accuracy: 0.7301 - val_loss: 12.8956 - val_accuracy: 0.7336\n",
            "Epoch 5/200\n",
            "63/64 [============================>.] - ETA: 0s - loss: 12.9168 - accuracy: 0.7323\n",
            "Epoch 5: val_accuracy did not improve from 0.73356\n",
            "64/64 [==============================] - 2s 35ms/step - loss: 12.9262 - accuracy: 0.7320 - val_loss: 12.8950 - val_accuracy: 0.7328\n",
            "Epoch 6/200\n",
            "63/64 [============================>.] - ETA: 0s - loss: 11.8586 - accuracy: 0.7333\n",
            "Epoch 6: val_accuracy did not improve from 0.73356\n",
            "64/64 [==============================] - 2s 35ms/step - loss: 11.9030 - accuracy: 0.7333 - val_loss: 14.9299 - val_accuracy: 0.7326\n",
            "Epoch 7/200\n",
            "63/64 [============================>.] - ETA: 0s - loss: 10.9097 - accuracy: 0.7337\n",
            "Epoch 7: val_accuracy did not improve from 0.73356\n",
            "64/64 [==============================] - 2s 35ms/step - loss: 10.9175 - accuracy: 0.7327 - val_loss: 12.9762 - val_accuracy: 0.7326\n",
            "Epoch 8/200\n",
            "63/64 [============================>.] - ETA: 0s - loss: 9.7726 - accuracy: 0.7323\n",
            "Epoch 8: val_accuracy did not improve from 0.73356\n",
            "64/64 [==============================] - 2s 35ms/step - loss: 9.7675 - accuracy: 0.7321 - val_loss: 13.4227 - val_accuracy: 0.7331\n",
            "Epoch 9/200\n",
            "63/64 [============================>.] - ETA: 0s - loss: 9.2357 - accuracy: 0.7315\n",
            "Epoch 9: val_accuracy did not improve from 0.73356\n",
            "64/64 [==============================] - 2s 34ms/step - loss: 9.2361 - accuracy: 0.7320 - val_loss: 12.9706 - val_accuracy: 0.7328\n",
            "Epoch 10/200\n",
            "63/64 [============================>.] - ETA: 0s - loss: 8.4877 - accuracy: 0.7334\n",
            "Epoch 10: val_accuracy did not improve from 0.73356\n",
            "64/64 [==============================] - 2s 35ms/step - loss: 8.4726 - accuracy: 0.7335 - val_loss: 13.9064 - val_accuracy: 0.7336\n",
            "Epoch 11/200\n",
            "63/64 [============================>.] - ETA: 0s - loss: 7.8235 - accuracy: 0.7333\n",
            "Epoch 11: val_accuracy did not improve from 0.73356\n",
            "64/64 [==============================] - 2s 35ms/step - loss: 7.8494 - accuracy: 0.7337 - val_loss: 13.9883 - val_accuracy: 0.7326\n",
            "Epoch 12/200\n",
            "63/64 [============================>.] - ETA: 0s - loss: 7.3468 - accuracy: 0.7330\n",
            "Epoch 12: val_accuracy improved from 0.73356 to 0.73405, saving model to best_model_twiter.h5\n",
            "64/64 [==============================] - 7s 108ms/step - loss: 7.3415 - accuracy: 0.7329 - val_loss: 13.6803 - val_accuracy: 0.7341\n",
            "Epoch 13/200\n",
            "63/64 [============================>.] - ETA: 0s - loss: 6.8914 - accuracy: 0.7349\n",
            "Epoch 13: val_accuracy did not improve from 0.73405\n",
            "64/64 [==============================] - 2s 35ms/step - loss: 6.8863 - accuracy: 0.7346 - val_loss: 13.2510 - val_accuracy: 0.7333\n",
            "Epoch 14/200\n",
            "63/64 [============================>.] - ETA: 0s - loss: 6.5833 - accuracy: 0.7340\n",
            "Epoch 14: val_accuracy improved from 0.73405 to 0.73553, saving model to best_model_twiter.h5\n",
            "64/64 [==============================] - 7s 111ms/step - loss: 6.5872 - accuracy: 0.7336 - val_loss: 13.5957 - val_accuracy: 0.7355\n",
            "Epoch 15/200\n",
            "63/64 [============================>.] - ETA: 0s - loss: 6.2306 - accuracy: 0.7347\n",
            "Epoch 15: val_accuracy did not improve from 0.73553\n",
            "64/64 [==============================] - 2s 35ms/step - loss: 6.2256 - accuracy: 0.7344 - val_loss: 13.6792 - val_accuracy: 0.7321\n",
            "Epoch 16/200\n",
            "63/64 [============================>.] - ETA: 0s - loss: 5.9805 - accuracy: 0.7329\n",
            "Epoch 16: val_accuracy did not improve from 0.73553\n",
            "64/64 [==============================] - 2s 35ms/step - loss: 5.9674 - accuracy: 0.7333 - val_loss: 14.6774 - val_accuracy: 0.7341\n",
            "Epoch 17/200\n",
            "63/64 [============================>.] - ETA: 0s - loss: 5.6708 - accuracy: 0.7360\n",
            "Epoch 17: val_accuracy did not improve from 0.73553\n",
            "64/64 [==============================] - 2s 35ms/step - loss: 5.6728 - accuracy: 0.7361 - val_loss: 13.8150 - val_accuracy: 0.7336\n",
            "Epoch 18/200\n",
            "63/64 [============================>.] - ETA: 0s - loss: 5.4693 - accuracy: 0.7352\n",
            "Epoch 18: val_accuracy did not improve from 0.73553\n",
            "64/64 [==============================] - 2s 35ms/step - loss: 5.4672 - accuracy: 0.7351 - val_loss: 13.9461 - val_accuracy: 0.7326\n",
            "Epoch 19/200\n",
            "63/64 [============================>.] - ETA: 0s - loss: 5.3245 - accuracy: 0.7372\n",
            "Epoch 19: val_accuracy did not improve from 0.73553\n",
            "64/64 [==============================] - 2s 35ms/step - loss: 5.3278 - accuracy: 0.7370 - val_loss: 14.1605 - val_accuracy: 0.7328\n",
            "Epoch 20/200\n",
            "63/64 [============================>.] - ETA: 0s - loss: 5.1911 - accuracy: 0.7349\n",
            "Epoch 20: val_accuracy did not improve from 0.73553\n",
            "64/64 [==============================] - 2s 35ms/step - loss: 5.2064 - accuracy: 0.7348 - val_loss: 14.2824 - val_accuracy: 0.7336\n",
            "Epoch 21/200\n",
            "63/64 [============================>.] - ETA: 0s - loss: 4.8894 - accuracy: 0.7372\n",
            "Epoch 21: val_accuracy did not improve from 0.73553\n",
            "64/64 [==============================] - 2s 35ms/step - loss: 4.8826 - accuracy: 0.7369 - val_loss: 14.0505 - val_accuracy: 0.7328\n",
            "Epoch 22/200\n",
            "63/64 [============================>.] - ETA: 0s - loss: 4.7337 - accuracy: 0.7372\n",
            "Epoch 22: val_accuracy did not improve from 0.73553\n",
            "64/64 [==============================] - 2s 35ms/step - loss: 4.7306 - accuracy: 0.7371 - val_loss: 14.2669 - val_accuracy: 0.7306\n",
            "Epoch 23/200\n",
            "63/64 [============================>.] - ETA: 0s - loss: 4.5033 - accuracy: 0.7357\n",
            "Epoch 23: val_accuracy did not improve from 0.73553\n",
            "64/64 [==============================] - 2s 35ms/step - loss: 4.5143 - accuracy: 0.7353 - val_loss: 14.9129 - val_accuracy: 0.7326\n",
            "Epoch 24/200\n",
            "63/64 [============================>.] - ETA: 0s - loss: 4.4625 - accuracy: 0.7347\n",
            "Epoch 24: val_accuracy did not improve from 0.73553\n",
            "64/64 [==============================] - 2s 35ms/step - loss: 4.4713 - accuracy: 0.7353 - val_loss: 14.7947 - val_accuracy: 0.7314\n",
            "Epoch 25/200\n",
            "63/64 [============================>.] - ETA: 0s - loss: 4.4804 - accuracy: 0.7345\n",
            "Epoch 25: val_accuracy did not improve from 0.73553\n",
            "64/64 [==============================] - 2s 35ms/step - loss: 4.4802 - accuracy: 0.7349 - val_loss: 14.5444 - val_accuracy: 0.7314\n",
            "Epoch 26/200\n",
            "63/64 [============================>.] - ETA: 0s - loss: 4.2815 - accuracy: 0.7359\n",
            "Epoch 26: val_accuracy did not improve from 0.73553\n",
            "64/64 [==============================] - 2s 35ms/step - loss: 4.2839 - accuracy: 0.7363 - val_loss: 14.4576 - val_accuracy: 0.7301\n",
            "Epoch 27/200\n",
            "63/64 [============================>.] - ETA: 0s - loss: 4.1928 - accuracy: 0.7358\n",
            "Epoch 27: val_accuracy did not improve from 0.73553\n",
            "64/64 [==============================] - 2s 35ms/step - loss: 4.1947 - accuracy: 0.7350 - val_loss: 14.3033 - val_accuracy: 0.7314\n",
            "Epoch 28/200\n",
            "63/64 [============================>.] - ETA: 0s - loss: 4.2256 - accuracy: 0.7369\n",
            "Epoch 28: val_accuracy did not improve from 0.73553\n",
            "64/64 [==============================] - 2s 34ms/step - loss: 4.2223 - accuracy: 0.7371 - val_loss: 14.3269 - val_accuracy: 0.7311\n",
            "Epoch 29/200\n",
            "63/64 [============================>.] - ETA: 0s - loss: 3.9933 - accuracy: 0.7351\n",
            "Epoch 29: val_accuracy did not improve from 0.73553\n",
            "64/64 [==============================] - 2s 35ms/step - loss: 3.9911 - accuracy: 0.7350 - val_loss: 14.5723 - val_accuracy: 0.7311\n",
            "Epoch 30/200\n",
            "63/64 [============================>.] - ETA: 0s - loss: 3.9120 - accuracy: 0.7347\n",
            "Epoch 30: val_accuracy did not improve from 0.73553\n",
            "64/64 [==============================] - 2s 35ms/step - loss: 3.9120 - accuracy: 0.7352 - val_loss: 14.6449 - val_accuracy: 0.7333\n",
            "Epoch 31/200\n",
            "63/64 [============================>.] - ETA: 0s - loss: 3.8395 - accuracy: 0.7361\n",
            "Epoch 31: val_accuracy did not improve from 0.73553\n",
            "64/64 [==============================] - 2s 35ms/step - loss: 3.8492 - accuracy: 0.7364 - val_loss: 14.3343 - val_accuracy: 0.7326\n",
            "Epoch 32/200\n",
            "63/64 [============================>.] - ETA: 0s - loss: 3.7678 - accuracy: 0.7367\n",
            "Epoch 32: val_accuracy did not improve from 0.73553\n",
            "64/64 [==============================] - 2s 35ms/step - loss: 3.7586 - accuracy: 0.7365 - val_loss: 14.2821 - val_accuracy: 0.7318\n",
            "Epoch 33/200\n",
            "63/64 [============================>.] - ETA: 0s - loss: 3.7110 - accuracy: 0.7356\n",
            "Epoch 33: val_accuracy did not improve from 0.73553\n",
            "64/64 [==============================] - 2s 35ms/step - loss: 3.7253 - accuracy: 0.7351 - val_loss: 14.5591 - val_accuracy: 0.7328\n",
            "Epoch 34/200\n",
            "63/64 [============================>.] - ETA: 0s - loss: 3.6958 - accuracy: 0.7353\n",
            "Epoch 34: val_accuracy did not improve from 0.73553\n",
            "64/64 [==============================] - 2s 35ms/step - loss: 3.7028 - accuracy: 0.7361 - val_loss: 14.4070 - val_accuracy: 0.7323\n",
            "Epoch 35/200\n",
            "63/64 [============================>.] - ETA: 0s - loss: 3.6758 - accuracy: 0.7374\n",
            "Epoch 35: val_accuracy did not improve from 0.73553\n",
            "64/64 [==============================] - 2s 35ms/step - loss: 3.6814 - accuracy: 0.7369 - val_loss: 14.3873 - val_accuracy: 0.7314\n",
            "Epoch 36/200\n",
            "63/64 [============================>.] - ETA: 0s - loss: 3.5929 - accuracy: 0.7354\n",
            "Epoch 36: val_accuracy did not improve from 0.73553\n",
            "64/64 [==============================] - 2s 35ms/step - loss: 3.5948 - accuracy: 0.7354 - val_loss: 14.6509 - val_accuracy: 0.7321\n",
            "Epoch 37/200\n",
            "63/64 [============================>.] - ETA: 0s - loss: 3.5370 - accuracy: 0.7365\n",
            "Epoch 37: val_accuracy did not improve from 0.73553\n",
            "64/64 [==============================] - 2s 35ms/step - loss: 3.5247 - accuracy: 0.7361 - val_loss: 14.4076 - val_accuracy: 0.7321\n",
            "Epoch 38/200\n",
            "63/64 [============================>.] - ETA: 0s - loss: 3.5026 - accuracy: 0.7357\n",
            "Epoch 38: val_accuracy did not improve from 0.73553\n",
            "64/64 [==============================] - 2s 35ms/step - loss: 3.5075 - accuracy: 0.7358 - val_loss: 14.8836 - val_accuracy: 0.7304\n",
            "Epoch 39/200\n",
            "64/64 [==============================] - ETA: 0s - loss: 3.5026 - accuracy: 0.7365\n",
            "Epoch 39: val_accuracy did not improve from 0.73553\n",
            "64/64 [==============================] - 3s 40ms/step - loss: 3.5026 - accuracy: 0.7365 - val_loss: 14.7495 - val_accuracy: 0.7321\n",
            "Epoch 40/200\n",
            "63/64 [============================>.] - ETA: 0s - loss: 3.4301 - accuracy: 0.7358\n",
            "Epoch 40: val_accuracy did not improve from 0.73553\n",
            "64/64 [==============================] - 2s 35ms/step - loss: 3.4462 - accuracy: 0.7360 - val_loss: 14.7282 - val_accuracy: 0.7321\n",
            "Epoch 41/200\n",
            "63/64 [============================>.] - ETA: 0s - loss: 3.3999 - accuracy: 0.7348\n",
            "Epoch 41: val_accuracy did not improve from 0.73553\n",
            "64/64 [==============================] - 2s 35ms/step - loss: 3.4045 - accuracy: 0.7348 - val_loss: 14.5456 - val_accuracy: 0.7326\n",
            "Epoch 42/200\n",
            "63/64 [============================>.] - ETA: 0s - loss: 3.3486 - accuracy: 0.7365\n",
            "Epoch 42: val_accuracy did not improve from 0.73553\n",
            "64/64 [==============================] - 2s 35ms/step - loss: 3.3518 - accuracy: 0.7363 - val_loss: 14.9239 - val_accuracy: 0.7316\n",
            "Epoch 43/200\n",
            "63/64 [============================>.] - ETA: 0s - loss: 3.3287 - accuracy: 0.7390\n",
            "Epoch 43: val_accuracy did not improve from 0.73553\n",
            "64/64 [==============================] - 2s 35ms/step - loss: 3.3205 - accuracy: 0.7384 - val_loss: 15.0076 - val_accuracy: 0.7333\n",
            "Epoch 44/200\n",
            "63/64 [============================>.] - ETA: 0s - loss: 3.3115 - accuracy: 0.7356\n",
            "Epoch 44: val_accuracy did not improve from 0.73553\n",
            "64/64 [==============================] - 2s 35ms/step - loss: 3.3143 - accuracy: 0.7361 - val_loss: 14.6649 - val_accuracy: 0.7314\n",
            "Epoch 45/200\n",
            "63/64 [============================>.] - ETA: 0s - loss: 3.2838 - accuracy: 0.7354\n",
            "Epoch 45: val_accuracy did not improve from 0.73553\n",
            "64/64 [==============================] - 2s 35ms/step - loss: 3.2936 - accuracy: 0.7358 - val_loss: 14.7290 - val_accuracy: 0.7338\n",
            "Epoch 46/200\n",
            "63/64 [============================>.] - ETA: 0s - loss: 3.2077 - accuracy: 0.7400\n",
            "Epoch 46: val_accuracy did not improve from 0.73553\n",
            "64/64 [==============================] - 2s 35ms/step - loss: 3.2291 - accuracy: 0.7396 - val_loss: 14.8497 - val_accuracy: 0.7331\n",
            "Epoch 47/200\n",
            "63/64 [============================>.] - ETA: 0s - loss: 3.3450 - accuracy: 0.7374\n",
            "Epoch 47: val_accuracy did not improve from 0.73553\n",
            "64/64 [==============================] - 2s 35ms/step - loss: 3.3446 - accuracy: 0.7368 - val_loss: 14.6964 - val_accuracy: 0.7326\n",
            "Epoch 48/200\n",
            "63/64 [============================>.] - ETA: 0s - loss: 3.2132 - accuracy: 0.7387\n",
            "Epoch 48: val_accuracy did not improve from 0.73553\n",
            "64/64 [==============================] - 2s 35ms/step - loss: 3.2145 - accuracy: 0.7387 - val_loss: 14.5937 - val_accuracy: 0.7326\n",
            "Epoch 49/200\n",
            "63/64 [============================>.] - ETA: 0s - loss: 3.1859 - accuracy: 0.7356\n",
            "Epoch 49: val_accuracy did not improve from 0.73553\n",
            "64/64 [==============================] - 2s 35ms/step - loss: 3.1823 - accuracy: 0.7353 - val_loss: 14.6061 - val_accuracy: 0.7333\n",
            "Epoch 50/200\n",
            "63/64 [============================>.] - ETA: 0s - loss: 3.0822 - accuracy: 0.7384\n",
            "Epoch 50: val_accuracy did not improve from 0.73553\n",
            "64/64 [==============================] - 2s 37ms/step - loss: 3.0858 - accuracy: 0.7379 - val_loss: 14.8407 - val_accuracy: 0.7336\n",
            "Epoch 51/200\n",
            "63/64 [============================>.] - ETA: 0s - loss: 3.0936 - accuracy: 0.7387\n",
            "Epoch 51: val_accuracy did not improve from 0.73553\n",
            "64/64 [==============================] - 2s 35ms/step - loss: 3.0923 - accuracy: 0.7391 - val_loss: 14.5616 - val_accuracy: 0.7323\n",
            "Epoch 52/200\n",
            "63/64 [============================>.] - ETA: 0s - loss: 3.0260 - accuracy: 0.7377\n",
            "Epoch 52: val_accuracy did not improve from 0.73553\n",
            "64/64 [==============================] - 2s 35ms/step - loss: 3.0233 - accuracy: 0.7377 - val_loss: 14.5360 - val_accuracy: 0.7321\n",
            "Epoch 53/200\n",
            "63/64 [============================>.] - ETA: 0s - loss: 3.0544 - accuracy: 0.7378\n",
            "Epoch 53: val_accuracy did not improve from 0.73553\n",
            "64/64 [==============================] - 2s 35ms/step - loss: 3.0516 - accuracy: 0.7375 - val_loss: 15.1294 - val_accuracy: 0.7328\n",
            "Epoch 54/200\n",
            "63/64 [============================>.] - ETA: 0s - loss: 3.0057 - accuracy: 0.7389\n",
            "Epoch 54: val_accuracy did not improve from 0.73553\n",
            "64/64 [==============================] - 2s 35ms/step - loss: 3.0106 - accuracy: 0.7391 - val_loss: 15.1453 - val_accuracy: 0.7355\n",
            "Epoch 55/200\n",
            "63/64 [============================>.] - ETA: 0s - loss: 2.9186 - accuracy: 0.7400\n",
            "Epoch 55: val_accuracy did not improve from 0.73553\n",
            "64/64 [==============================] - 2s 35ms/step - loss: 2.9259 - accuracy: 0.7404 - val_loss: 14.5498 - val_accuracy: 0.7314\n",
            "Epoch 56/200\n",
            "63/64 [============================>.] - ETA: 0s - loss: 3.0544 - accuracy: 0.7390\n",
            "Epoch 56: val_accuracy did not improve from 0.73553\n",
            "64/64 [==============================] - 2s 35ms/step - loss: 3.0540 - accuracy: 0.7397 - val_loss: 14.9689 - val_accuracy: 0.7353\n",
            "Epoch 57/200\n",
            "63/64 [============================>.] - ETA: 0s - loss: 2.9681 - accuracy: 0.7380\n",
            "Epoch 57: val_accuracy did not improve from 0.73553\n",
            "64/64 [==============================] - 2s 35ms/step - loss: 2.9658 - accuracy: 0.7382 - val_loss: 14.5901 - val_accuracy: 0.7338\n",
            "Epoch 58/200\n",
            "63/64 [============================>.] - ETA: 0s - loss: 2.9983 - accuracy: 0.7391\n",
            "Epoch 58: val_accuracy did not improve from 0.73553\n",
            "64/64 [==============================] - 2s 35ms/step - loss: 2.9964 - accuracy: 0.7390 - val_loss: 14.8989 - val_accuracy: 0.7311\n",
            "Epoch 59/200\n",
            "63/64 [============================>.] - ETA: 0s - loss: 2.9622 - accuracy: 0.7403\n",
            "Epoch 59: val_accuracy did not improve from 0.73553\n",
            "64/64 [==============================] - 2s 35ms/step - loss: 2.9653 - accuracy: 0.7399 - val_loss: 14.8248 - val_accuracy: 0.7338\n",
            "Epoch 60/200\n",
            "63/64 [============================>.] - ETA: 0s - loss: 2.9299 - accuracy: 0.7380\n",
            "Epoch 60: val_accuracy did not improve from 0.73553\n",
            "64/64 [==============================] - 2s 35ms/step - loss: 2.9538 - accuracy: 0.7377 - val_loss: 15.0394 - val_accuracy: 0.7341\n",
            "Epoch 61/200\n",
            "63/64 [============================>.] - ETA: 0s - loss: 2.9714 - accuracy: 0.7382\n",
            "Epoch 61: val_accuracy did not improve from 0.73553\n",
            "64/64 [==============================] - 3s 41ms/step - loss: 2.9666 - accuracy: 0.7382 - val_loss: 14.9511 - val_accuracy: 0.7333\n",
            "Epoch 62/200\n",
            "63/64 [============================>.] - ETA: 0s - loss: 2.9345 - accuracy: 0.7396\n",
            "Epoch 62: val_accuracy did not improve from 0.73553\n",
            "64/64 [==============================] - 2s 35ms/step - loss: 2.9355 - accuracy: 0.7399 - val_loss: 14.8792 - val_accuracy: 0.7336\n",
            "Epoch 63/200\n",
            "63/64 [============================>.] - ETA: 0s - loss: 2.8516 - accuracy: 0.7391\n",
            "Epoch 63: val_accuracy did not improve from 0.73553\n",
            "64/64 [==============================] - 2s 35ms/step - loss: 2.8599 - accuracy: 0.7390 - val_loss: 14.9290 - val_accuracy: 0.7331\n",
            "Epoch 64/200\n",
            "63/64 [============================>.] - ETA: 0s - loss: 2.8910 - accuracy: 0.7418\n",
            "Epoch 64: val_accuracy did not improve from 0.73553\n",
            "64/64 [==============================] - 2s 36ms/step - loss: 2.9030 - accuracy: 0.7414 - val_loss: 14.8589 - val_accuracy: 0.7318\n",
            "Epoch 65/200\n",
            "63/64 [============================>.] - ETA: 0s - loss: 2.8339 - accuracy: 0.7409\n",
            "Epoch 65: val_accuracy did not improve from 0.73553\n",
            "64/64 [==============================] - 2s 35ms/step - loss: 2.8247 - accuracy: 0.7410 - val_loss: 14.8937 - val_accuracy: 0.7311\n",
            "Epoch 66/200\n",
            "63/64 [============================>.] - ETA: 0s - loss: 2.8971 - accuracy: 0.7388\n",
            "Epoch 66: val_accuracy did not improve from 0.73553\n",
            "64/64 [==============================] - 2s 35ms/step - loss: 2.8920 - accuracy: 0.7392 - val_loss: 14.9718 - val_accuracy: 0.7331\n",
            "Epoch 67/200\n",
            "63/64 [============================>.] - ETA: 0s - loss: 2.7768 - accuracy: 0.7414\n",
            "Epoch 67: val_accuracy did not improve from 0.73553\n",
            "64/64 [==============================] - 2s 35ms/step - loss: 2.7738 - accuracy: 0.7417 - val_loss: 14.8207 - val_accuracy: 0.7336\n",
            "Epoch 68/200\n",
            "63/64 [============================>.] - ETA: 0s - loss: 2.7522 - accuracy: 0.7401\n",
            "Epoch 68: val_accuracy did not improve from 0.73553\n",
            "64/64 [==============================] - 2s 36ms/step - loss: 2.7506 - accuracy: 0.7400 - val_loss: 14.8520 - val_accuracy: 0.7326\n",
            "Epoch 69/200\n",
            "63/64 [============================>.] - ETA: 0s - loss: 2.7227 - accuracy: 0.7393\n",
            "Epoch 69: val_accuracy did not improve from 0.73553\n",
            "64/64 [==============================] - 2s 35ms/step - loss: 2.7336 - accuracy: 0.7393 - val_loss: 14.6930 - val_accuracy: 0.7323\n",
            "Epoch 70/200\n",
            "63/64 [============================>.] - ETA: 0s - loss: 2.7572 - accuracy: 0.7405\n",
            "Epoch 70: val_accuracy did not improve from 0.73553\n",
            "64/64 [==============================] - 2s 36ms/step - loss: 2.7574 - accuracy: 0.7413 - val_loss: 15.2533 - val_accuracy: 0.7314\n",
            "Epoch 71/200\n",
            "63/64 [============================>.] - ETA: 0s - loss: 2.8058 - accuracy: 0.7417\n",
            "Epoch 71: val_accuracy did not improve from 0.73553\n",
            "64/64 [==============================] - 2s 35ms/step - loss: 2.8036 - accuracy: 0.7423 - val_loss: 15.1000 - val_accuracy: 0.7345\n",
            "Epoch 72/200\n",
            "63/64 [============================>.] - ETA: 0s - loss: 2.7176 - accuracy: 0.7410\n",
            "Epoch 72: val_accuracy did not improve from 0.73553\n",
            "64/64 [==============================] - 2s 35ms/step - loss: 2.7178 - accuracy: 0.7410 - val_loss: 15.0668 - val_accuracy: 0.7326\n",
            "Epoch 73/200\n",
            "63/64 [============================>.] - ETA: 0s - loss: 2.7101 - accuracy: 0.7428\n",
            "Epoch 73: val_accuracy did not improve from 0.73553\n",
            "64/64 [==============================] - 2s 35ms/step - loss: 2.7069 - accuracy: 0.7427 - val_loss: 15.0445 - val_accuracy: 0.7328\n",
            "Epoch 74/200\n",
            "63/64 [============================>.] - ETA: 0s - loss: 2.6692 - accuracy: 0.7409\n",
            "Epoch 74: val_accuracy did not improve from 0.73553\n",
            "64/64 [==============================] - 2s 35ms/step - loss: 2.6708 - accuracy: 0.7410 - val_loss: 14.9312 - val_accuracy: 0.7333\n",
            "Epoch 75/200\n",
            "63/64 [============================>.] - ETA: 0s - loss: 2.7185 - accuracy: 0.7410\n",
            "Epoch 75: val_accuracy did not improve from 0.73553\n",
            "64/64 [==============================] - 2s 35ms/step - loss: 2.7160 - accuracy: 0.7415 - val_loss: 14.7955 - val_accuracy: 0.7341\n",
            "Epoch 76/200\n",
            "63/64 [============================>.] - ETA: 0s - loss: 2.6836 - accuracy: 0.7388\n",
            "Epoch 76: val_accuracy did not improve from 0.73553\n",
            "64/64 [==============================] - 2s 35ms/step - loss: 2.6796 - accuracy: 0.7383 - val_loss: 14.8597 - val_accuracy: 0.7318\n",
            "Epoch 77/200\n",
            "63/64 [============================>.] - ETA: 0s - loss: 2.6692 - accuracy: 0.7429\n",
            "Epoch 77: val_accuracy did not improve from 0.73553\n",
            "64/64 [==============================] - 2s 36ms/step - loss: 2.6693 - accuracy: 0.7436 - val_loss: 15.0712 - val_accuracy: 0.7341\n",
            "Epoch 78/200\n",
            "63/64 [============================>.] - ETA: 0s - loss: 2.6882 - accuracy: 0.7416\n",
            "Epoch 78: val_accuracy did not improve from 0.73553\n",
            "64/64 [==============================] - 2s 35ms/step - loss: 2.6858 - accuracy: 0.7418 - val_loss: 14.8457 - val_accuracy: 0.7333\n",
            "Epoch 79/200\n",
            "63/64 [============================>.] - ETA: 0s - loss: 2.6681 - accuracy: 0.7408\n",
            "Epoch 79: val_accuracy did not improve from 0.73553\n",
            "64/64 [==============================] - 2s 35ms/step - loss: 2.6691 - accuracy: 0.7410 - val_loss: 14.7874 - val_accuracy: 0.7328\n",
            "Epoch 80/200\n",
            "63/64 [============================>.] - ETA: 0s - loss: 2.6543 - accuracy: 0.7426\n",
            "Epoch 80: val_accuracy did not improve from 0.73553\n",
            "64/64 [==============================] - 2s 35ms/step - loss: 2.6548 - accuracy: 0.7423 - val_loss: 14.7865 - val_accuracy: 0.7316\n",
            "Epoch 81/200\n",
            "63/64 [============================>.] - ETA: 0s - loss: 2.6002 - accuracy: 0.7409\n",
            "Epoch 81: val_accuracy did not improve from 0.73553\n",
            "64/64 [==============================] - 2s 35ms/step - loss: 2.5947 - accuracy: 0.7409 - val_loss: 14.9222 - val_accuracy: 0.7309\n",
            "Epoch 82/200\n",
            "63/64 [============================>.] - ETA: 0s - loss: 2.6734 - accuracy: 0.7440\n",
            "Epoch 82: val_accuracy did not improve from 0.73553\n",
            "64/64 [==============================] - 2s 35ms/step - loss: 2.6758 - accuracy: 0.7434 - val_loss: 15.2039 - val_accuracy: 0.7316\n",
            "Epoch 83/200\n",
            "63/64 [============================>.] - ETA: 0s - loss: 2.6075 - accuracy: 0.7429\n",
            "Epoch 83: val_accuracy did not improve from 0.73553\n",
            "64/64 [==============================] - 2s 35ms/step - loss: 2.6132 - accuracy: 0.7429 - val_loss: 14.7940 - val_accuracy: 0.7336\n",
            "Epoch 84/200\n",
            "63/64 [============================>.] - ETA: 0s - loss: 2.6260 - accuracy: 0.7432\n",
            "Epoch 84: val_accuracy did not improve from 0.73553\n",
            "64/64 [==============================] - 2s 35ms/step - loss: 2.6198 - accuracy: 0.7431 - val_loss: 15.2428 - val_accuracy: 0.7326\n",
            "Epoch 85/200\n",
            "63/64 [============================>.] - ETA: 0s - loss: 2.5203 - accuracy: 0.7445\n",
            "Epoch 85: val_accuracy did not improve from 0.73553\n",
            "64/64 [==============================] - 2s 35ms/step - loss: 2.5200 - accuracy: 0.7445 - val_loss: 14.8377 - val_accuracy: 0.7316\n",
            "Epoch 85: early stopping\n"
          ]
        }
      ],
      "source": [
        "history = model.fit(trainX,trainy,epochs=200,batch_size=256,validation_data=val_data,validation_batch_size=128, callbacks=[es, mc])"
      ]
    },
    {
      "cell_type": "markdown",
      "source": [
        "# Hypertuning Parameter\n",
        "Tried combination \n",
        "\n",
        "kernel_initializer  |Epochs   | batch_size  | validation_batch_size\n",
        "--------------------|---------|-------------|-------------------\n",
        "\"he_normal\", \"uniform\", \"glorot_uniform     | 80,200 | 128,256,512   | 64,128\n",
        "\n",
        "\n",
        "Got the best accuracy for \"glorot_uniform\" with 200 epochs , earlystopping at 80 and batch size 256 with validation size 64"
      ],
      "metadata": {
        "id": "tnoMK6WctCbL"
      }
    },
    {
      "cell_type": "code",
      "execution_count": 155,
      "metadata": {
        "colab": {
          "base_uri": "https://localhost:8080/",
          "height": 535
        },
        "id": "LO_zjpiZDp9L",
        "outputId": "a5dea20b-fc66-4d63-ad42-3491ca28ef72"
      },
      "outputs": [
        {
          "output_type": "display_data",
          "data": {
            "text/plain": [
              "<Figure size 864x576 with 1 Axes>"
            ],
            "image/png": "[encoded data removed]"
          },
          "metadata": {}
        }
      ],
      "source": [
        "plt.figure(figsize = (12,8))\n",
        "plt.plot(history.history['loss'])\n",
        "plt.plot(history.history['val_loss'])\n",
        "plt.title('bi-directional GRU model loss')\n",
        "plt.ylabel('loss')\n",
        "plt.xlabel('epoch')\n",
        "plt.legend(['training_loss', 'validation_loss'], loc='upper left')\n",
        "plt.show()"
      ]
    },
    {
      "cell_type": "code",
      "source": [
        "plt.figure(figsize = (12,8))\n",
        "plt.plot(history.history['accuracy'])\n",
        "plt.plot(history.history['val_accuracy'])\n",
        "plt.title('bi-directional GRU accuracy')\n",
        "plt.ylabel('accuracy')\n",
        "plt.xlabel('epoch')\n",
        "plt.legend(['training_accuracy', 'validation_accuracy'], loc='upper left')\n",
        "plt.show()"
      ],
      "metadata": {
        "colab": {
          "base_uri": "https://localhost:8080/",
          "height": 535
        },
        "id": "EzwnGGtxVMPz",
        "outputId": "c6de2940-630d-49e7-bd27-c71d1c73b4dc"
      },
      "execution_count": 156,
      "outputs": [
        {
          "output_type": "display_data",
          "data": {
            "text/plain": [
              "<Figure size 864x576 with 1 Axes>"
            ],
            "image/png": "[encoded data removed]"
          },
          "metadata": {}
        }
      ]
    },
    {
      "cell_type": "code",
      "execution_count": 157,
      "metadata": {
        "id": "4EaHseZ6WJb5"
      },
      "outputs": [],
      "source": [
        "saved_model = load_model('best_model_twiter.h5')"
      ]
    },
    {
      "cell_type": "code",
      "execution_count": 158,
      "metadata": {
        "id": "STjg-aUH3Yql"
      },
      "outputs": [],
      "source": [
        "# test data from training set\n",
        "def define_test_set(test_val, text_max_len):\n",
        "    test_text = test_val['text'].values.astype(str)\n",
        "    test_text = t_text.texts_to_sequences(test_text)\n",
        "    test_text = pad_sequences(test_text,maxlen=text_max_len,padding='post')\n",
        "\n",
        "    test_sentiment = test_val['sentiment'].values.astype(str)\n",
        "    test_sentiment= t_sentiment.texts_to_sequences(test_sentiment)\n",
        "    test_sentiment = pad_sequences(test_sentiment,maxlen=max_length_sentiment,padding='post')\n",
        "    return test_text, test_sentiment\n",
        "\n",
        "test_text_tr, test_sentiment_tr = define_test_set(X_test, max_length_text) # test dataframe from train data only\n",
        "test_text_testdata, test_sentiment_testdata = define_test_set(X_test_testdata, max_length_text) # test dataframe from test CSV file"
      ]
    },
    {
      "cell_type": "code",
      "execution_count": 159,
      "metadata": {
        "id": "l9lyWhm9ggUB"
      },
      "outputs": [],
      "source": [
        "# result from training data\n",
        "result_tr  = model.predict([test_text_tr, test_sentiment_tr])\n",
        "result_tr = np.round(result_tr)"
      ]
    },
    {
      "cell_type": "code",
      "source": [
        "# result from test data from test csv\n",
        "result_testdata = model.predict([test_text_testdata, test_sentiment_testdata])\n",
        "result_testdata = np.round(result_testdata)"
      ],
      "metadata": {
        "id": "Bk7_SzwZdt9R"
      },
      "execution_count": 160,
      "outputs": []
    },
    {
      "cell_type": "code",
      "execution_count": 161,
      "metadata": {
        "id": "88PcL6Gn9ceY"
      },
      "outputs": [],
      "source": [
        "# function to get the text based on start and end indices\n",
        "def find_sel_text(x):\n",
        "  txt , start , end = x[0],x[1],x[2]\n",
        "  end=end+1\n",
        "  txt = txt.split()\n",
        "  sel_text = txt[start:end]\n",
        "  sel_text = \" \".join(sel_text)\n",
        "  return sel_text"
      ]
    },
    {
      "cell_type": "code",
      "execution_count": 162,
      "metadata": {
        "id": "BgfBtZkc2IwR"
      },
      "outputs": [],
      "source": [
        "def ypred_dataframe_tr(results, testframe):\n",
        "    ypred = testframe.iloc[:,:]\n",
        "    ypred['pred_st_index'], ypred['pred_en_index'] = (abs(results[:,0])),(abs(results[:,1]))\n",
        "    ypred['pred_st_index'] = ypred['pred_st_index'].astype('int')\n",
        "    ypred['pred_en_index'] = ypred['pred_en_index'].astype('int')\n",
        "    ypred['predicted_text'] = ypred[[\"text\",\"pred_st_index\",\"pred_en_index\"]].apply(lambda x: find_sel_text(x), axis = 1)\n",
        "\n",
        "    ytest['text'] = ypred[\"text\"]\n",
        "    ypred['selected_text'] = ytest[[\"text\",\"start_index\",\"end_index\"]].apply(lambda x: find_sel_text(x), axis = 1)\n",
        "    return ypred\n",
        "\n",
        "ypred_tr = ypred_dataframe_tr(result_tr, X_test)"
      ]
    },
    {
      "cell_type": "code",
      "source": [
        "def ypred_dataframe_testdata(results, testframe):\n",
        "    ypred = testframe.iloc[:,:]\n",
        "    ypred['pred_st_index'], ypred['pred_en_index'] = (abs(results[:,0])),(abs(results[:,1]))\n",
        "    ypred['pred_st_index'] = ypred['pred_st_index'].astype('int')\n",
        "    ypred['pred_en_index'] = ypred['pred_en_index'].astype('int')\n",
        "    ypred['predicted_text'] = ypred[[\"text\",\"pred_st_index\",\"pred_en_index\"]].apply(lambda x: find_sel_text(x), axis = 1)\n",
        "    return ypred\n",
        "\n",
        "ypred_testdata = ypred_dataframe_testdata(result_testdata, X_test_testdata)"
      ],
      "metadata": {
        "colab": {
          "base_uri": "https://localhost:8080/"
        },
        "id": "iBitz25hkxYU",
        "outputId": "f012a638-928a-4281-b417-7d7e8490fce6"
      },
      "execution_count": 163,
      "outputs": [
        {
          "output_type": "stream",
          "name": "stderr",
          "text": [
            "/usr/local/lib/python3.7/dist-packages/ipykernel_launcher.py:3: SettingWithCopyWarning: \n",
            "A value is trying to be set on a copy of a slice from a DataFrame.\n",
            "Try using .loc[row_indexer,col_indexer] = value instead\n",
            "\n",
            "See the caveats in the documentation: https://pandas.pydata.org/pandas-docs/stable/user_guide/indexing.html#returning-a-view-versus-a-copy\n",
            "  This is separate from the ipykernel package so we can avoid doing imports until\n"
          ]
        }
      ]
    },
    {
      "cell_type": "code",
      "execution_count": 164,
      "metadata": {
        "id": "qlr8uHMR3Q3H"
      },
      "outputs": [],
      "source": [
        "def jaccard(str1, str2): \n",
        "    a = set(str1.lower().split()) \n",
        "    b = set(str2.lower().split())\n",
        "    if (len(a)==0) & (len(b)==0):\n",
        "        return 0.5\n",
        "    c = a.intersection(b)\n",
        "    return float(len(c)) / (len(a) + len(b) - len(c))"
      ]
    },
    {
      "cell_type": "code",
      "source": [
        "ypred_tr"
      ],
      "metadata": {
        "colab": {
          "base_uri": "https://localhost:8080/",
          "height": 624
        },
        "id": "f85hhxIKl914",
        "outputId": "0e5a54e7-810c-4b9b-a2b1-cc0ed770c874"
      },
      "execution_count": 165,
      "outputs": [
        {
          "output_type": "execute_result",
          "data": {
            "text/plain": [
              "                                                    text sentiment  \\\n",
              "10064          now i want ice cream but its so expensive  negative   \n",
              "24548  hi nancy your fine till it the baby moves  jus...   neutral   \n",
              "7452   make sure u pick up chrisette micheles new alb...  positive   \n",
              "17367  waiting for princes protection program online ...   neutral   \n",
              "7960   found out i have to go to the us again in augu...  negative   \n",
              "...                                                  ...       ...   \n",
              "1031   i feel really bad for female racoons with abus...  negative   \n",
              "23019                                        afc oh yess  positive   \n",
              "8134        _in i loved that movie and i miss raul julia   neutral   \n",
              "15482  hi  found you through  i am indeed a pigment o...   neutral   \n",
              "22470  is hitting the streets 40 hours living with le...  negative   \n",
              "\n",
              "       pred_st_index  pred_en_index  \\\n",
              "10064              4              9   \n",
              "24548              0             25   \n",
              "7452              17             19   \n",
              "17367              0             11   \n",
              "7960              17             18   \n",
              "...              ...            ...   \n",
              "1031               8             10   \n",
              "23019              1              2   \n",
              "8134               0              7   \n",
              "15482              0             11   \n",
              "22470             11             14   \n",
              "\n",
              "                                          predicted_text  \\\n",
              "10064                         cream but its so expensive   \n",
              "24548  hi nancy your fine till it the baby moves just...   \n",
              "7452                                     love it promise   \n",
              "17367  waiting for princes protection program online ...   \n",
              "7960                                            not good   \n",
              "...                                                  ...   \n",
              "1031                             abusive racoon husbands   \n",
              "23019                                            oh yess   \n",
              "8134                   _in i loved that movie and i miss   \n",
              "15482  hi found you through i am indeed a pigment of ...   \n",
              "22470                            foodno bedno problem no   \n",
              "\n",
              "                                           selected_text  \n",
              "10064                                       so expensive  \n",
              "24548  hi nancy your fine till it the baby moves just...  \n",
              "7452                                            congrats  \n",
              "17367  waiting for princes protection program online ...  \n",
              "7960   getting tired of transatlantic flights not goo...  \n",
              "...                                                  ...  \n",
              "1031                                                 bad  \n",
              "23019                                            oh yess  \n",
              "8134        _in i loved that movie and i miss raul julia  \n",
              "15482  hi found you through i am indeed a pigment of ...  \n",
              "22470  no foodno bedno problem no facebook or twitter...  \n",
              "\n",
              "[5095 rows x 6 columns]"
            ],
            "text/html": [
              "\n",
              "  <div id=\"df-af57f005-4764-4898-90a3-4c1ec57aead8\">\n",
              "    <div class=\"colab-df-container\">\n",
              "      <div>\n",
              "<style scoped>\n",
              "    .dataframe tbody tr th:only-of-type {\n",
              "        vertical-align: middle;\n",
              "    }\n",
              "\n",
              "    .dataframe tbody tr th {\n",
              "        vertical-align: top;\n",
              "    }\n",
              "\n",
              "    .dataframe thead th {\n",
              "        text-align: right;\n",
              "    }\n",
              "</style>\n",
              "<table border=\"1\" class=\"dataframe\">\n",
              "  <thead>\n",
              "    <tr style=\"text-align: right;\">\n",
              "      <th></th>\n",
              "      <th>text</th>\n",
              "      <th>sentiment</th>\n",
              "      <th>pred_st_index</th>\n",
              "      <th>pred_en_index</th>\n",
              "      <th>predicted_text</th>\n",
              "      <th>selected_text</th>\n",
              "    </tr>\n",
              "  </thead>\n",
              "  <tbody>\n",
              "    <tr>\n",
              "      <th>10064</th>\n",
              "      <td>now i want ice cream but its so expensive</td>\n",
              "      <td>negative</td>\n",
              "      <td>4</td>\n",
              "      <td>9</td>\n",
              "      <td>cream but its so expensive</td>\n",
              "      <td>so expensive</td>\n",
              "    </tr>\n",
              "    <tr>\n",
              "      <th>24548</th>\n",
              "      <td>hi nancy your fine till it the baby moves  jus...</td>\n",
              "      <td>neutral</td>\n",
              "      <td>0</td>\n",
              "      <td>25</td>\n",
              "      <td>hi nancy your fine till it the baby moves just...</td>\n",
              "      <td>hi nancy your fine till it the baby moves just...</td>\n",
              "    </tr>\n",
              "    <tr>\n",
              "      <th>7452</th>\n",
              "      <td>make sure u pick up chrisette micheles new alb...</td>\n",
              "      <td>positive</td>\n",
              "      <td>17</td>\n",
              "      <td>19</td>\n",
              "      <td>love it promise</td>\n",
              "      <td>congrats</td>\n",
              "    </tr>\n",
              "    <tr>\n",
              "      <th>17367</th>\n",
              "      <td>waiting for princes protection program online ...</td>\n",
              "      <td>neutral</td>\n",
              "      <td>0</td>\n",
              "      <td>11</td>\n",
              "      <td>waiting for princes protection program online ...</td>\n",
              "      <td>waiting for princes protection program online ...</td>\n",
              "    </tr>\n",
              "    <tr>\n",
              "      <th>7960</th>\n",
              "      <td>found out i have to go to the us again in augu...</td>\n",
              "      <td>negative</td>\n",
              "      <td>17</td>\n",
              "      <td>18</td>\n",
              "      <td>not good</td>\n",
              "      <td>getting tired of transatlantic flights not goo...</td>\n",
              "    </tr>\n",
              "    <tr>\n",
              "      <th>...</th>\n",
              "      <td>...</td>\n",
              "      <td>...</td>\n",
              "      <td>...</td>\n",
              "      <td>...</td>\n",
              "      <td>...</td>\n",
              "      <td>...</td>\n",
              "    </tr>\n",
              "    <tr>\n",
              "      <th>1031</th>\n",
              "      <td>i feel really bad for female racoons with abus...</td>\n",
              "      <td>negative</td>\n",
              "      <td>8</td>\n",
              "      <td>10</td>\n",
              "      <td>abusive racoon husbands</td>\n",
              "      <td>bad</td>\n",
              "    </tr>\n",
              "    <tr>\n",
              "      <th>23019</th>\n",
              "      <td>afc oh yess</td>\n",
              "      <td>positive</td>\n",
              "      <td>1</td>\n",
              "      <td>2</td>\n",
              "      <td>oh yess</td>\n",
              "      <td>oh yess</td>\n",
              "    </tr>\n",
              "    <tr>\n",
              "      <th>8134</th>\n",
              "      <td>_in i loved that movie and i miss raul julia</td>\n",
              "      <td>neutral</td>\n",
              "      <td>0</td>\n",
              "      <td>7</td>\n",
              "      <td>_in i loved that movie and i miss</td>\n",
              "      <td>_in i loved that movie and i miss raul julia</td>\n",
              "    </tr>\n",
              "    <tr>\n",
              "      <th>15482</th>\n",
              "      <td>hi  found you through  i am indeed a pigment o...</td>\n",
              "      <td>neutral</td>\n",
              "      <td>0</td>\n",
              "      <td>11</td>\n",
              "      <td>hi found you through i am indeed a pigment of ...</td>\n",
              "      <td>hi found you through i am indeed a pigment of ...</td>\n",
              "    </tr>\n",
              "    <tr>\n",
              "      <th>22470</th>\n",
              "      <td>is hitting the streets 40 hours living with le...</td>\n",
              "      <td>negative</td>\n",
              "      <td>11</td>\n",
              "      <td>14</td>\n",
              "      <td>foodno bedno problem no</td>\n",
              "      <td>no foodno bedno problem no facebook or twitter...</td>\n",
              "    </tr>\n",
              "  </tbody>\n",
              "</table>\n",
              "<p>5095 rows × 6 columns</p>\n",
              "</div>\n",
              "      <button class=\"colab-df-convert\" onclick=\"convertToInteractive('df-af57f005-4764-4898-90a3-4c1ec57aead8')\"\n",
              "              title=\"Convert this dataframe to an interactive table.\"\n",
              "              style=\"display:none;\">\n",
              "        \n",
              "  <svg xmlns=\"http://www.w3.org/2000/svg\" height=\"24px\"viewBox=\"0 0 24 24\"\n",
              "       width=\"24px\">\n",
              "    <path d=\"M0 0h24v24H0V0z\" fill=\"none\"/>\n",
              "    <path d=\"M18.56 5.44l.94 2.06.94-2.06 2.06-.94-2.06-.94-.94-2.06-.94 2.06-2.06.94zm-11 1L8.5 8.5l.94-2.06 2.06-.94-2.06-.94L8.5 2.5l-.94 2.06-2.06.94zm10 10l.94 2.06.94-2.06 2.06-.94-2.06-.94-.94-2.06-.94 2.06-2.06.94z\"/><path d=\"M17.41 7.96l-1.37-1.37c-.4-.4-.92-.59-1.43-.59-.52 0-1.04.2-1.43.59L10.3 9.45l-7.72 7.72c-.78.78-.78 2.05 0 2.83L4 21.41c.39.39.9.59 1.41.59.51 0 1.02-.2 1.41-.59l7.78-7.78 2.81-2.81c.8-.78.8-2.07 0-2.86zM5.41 20L4 18.59l7.72-7.72 1.47 1.35L5.41 20z\"/>\n",
              "  </svg>\n",
              "      </button>\n",
              "      \n",
              "  <style>\n",
              "    .colab-df-container {\n",
              "      display:flex;\n",
              "      flex-wrap:wrap;\n",
              "      gap: 12px;\n",
              "    }\n",
              "\n",
              "    .colab-df-convert {\n",
              "      background-color: #E8F0FE;\n",
              "      border: none;\n",
              "      border-radius: 50%;\n",
              "      cursor: pointer;\n",
              "      display: none;\n",
              "      fill: #1967D2;\n",
              "      height: 32px;\n",
              "      padding: 0 0 0 0;\n",
              "      width: 32px;\n",
              "    }\n",
              "\n",
              "    .colab-df-convert:hover {\n",
              "      background-color: #E2EBFA;\n",
              "      box-shadow: 0px 1px 2px rgba(60, 64, 67, 0.3), 0px 1px 3px 1px rgba(60, 64, 67, 0.15);\n",
              "      fill: #174EA6;\n",
              "    }\n",
              "\n",
              "    [theme=dark] .colab-df-convert {\n",
              "      background-color: #3B4455;\n",
              "      fill: #D2E3FC;\n",
              "    }\n",
              "\n",
              "    [theme=dark] .colab-df-convert:hover {\n",
              "      background-color: #434B5C;\n",
              "      box-shadow: 0px 1px 3px 1px rgba(0, 0, 0, 0.15);\n",
              "      filter: drop-shadow(0px 1px 2px rgba(0, 0, 0, 0.3));\n",
              "      fill: #FFFFFF;\n",
              "    }\n",
              "  </style>\n",
              "\n",
              "      <script>\n",
              "        const buttonEl =\n",
              "          document.querySelector('#df-af57f005-4764-4898-90a3-4c1ec57aead8 button.colab-df-convert');\n",
              "        buttonEl.style.display =\n",
              "          google.colab.kernel.accessAllowed ? 'block' : 'none';\n",
              "\n",
              "        async function convertToInteractive(key) {\n",
              "          const element = document.querySelector('#df-af57f005-4764-4898-90a3-4c1ec57aead8');\n",
              "          const dataTable =\n",
              "            await google.colab.kernel.invokeFunction('convertToInteractive',\n",
              "                                                     [key], {});\n",
              "          if (!dataTable) return;\n",
              "\n",
              "          const docLinkHtml = 'Like what you see? Visit the ' +\n",
              "            '<a target=\"_blank\" href=https://colab.research.google.com/notebooks/data_table.ipynb>data table notebook</a>'\n",
              "            + ' to learn more about interactive tables.';\n",
              "          element.innerHTML = '';\n",
              "          dataTable['output_type'] = 'display_data';\n",
              "          await google.colab.output.renderOutput(dataTable, element);\n",
              "          const docLink = document.createElement('div');\n",
              "          docLink.innerHTML = docLinkHtml;\n",
              "          element.appendChild(docLink);\n",
              "        }\n",
              "      </script>\n",
              "    </div>\n",
              "  </div>\n",
              "  "
            ]
          },
          "metadata": {},
          "execution_count": 165
        }
      ]
    },
    {
      "cell_type": "markdown",
      "source": [
        "The **Jaccard Score** or Jaccard Similarity is one of the statistics used in understanding the similarity between two sets."
      ],
      "metadata": {
        "id": "50n57tLiVmPK"
      }
    },
    {
      "cell_type": "code",
      "execution_count": 166,
      "metadata": {
        "colab": {
          "base_uri": "https://localhost:8080/"
        },
        "id": "TMZPdAIVMAfD",
        "outputId": "8dbf7185-cd94-4b39-9a46-a1ecad9db169"
      },
      "outputs": [
        {
          "output_type": "stream",
          "name": "stdout",
          "text": [
            "Mean Jaccard Index score for unseen test data taken from training set: 0.53233\n"
          ]
        }
      ],
      "source": [
        "def get_jaccard_score(ypred):\n",
        "    ypred['jaccard_score'] = ypred.apply(lambda x: jaccard(x.selected_text, x.predicted_text), axis = 1)\n",
        "    return np.mean(ypred_tr['jaccard_score'])\n",
        "\n",
        "jaccard_score_tr = get_jaccard_score(ypred_tr)\n",
        "print(\"Mean Jaccard Index score for unseen test data taken from training set: %.5f\" % jaccard_score_tr)"
      ]
    },
    {
      "cell_type": "code",
      "source": [
        "ypred_testdata"
      ],
      "metadata": {
        "colab": {
          "base_uri": "https://localhost:8080/",
          "height": 423
        },
        "id": "6OyDEnPDmnya",
        "outputId": "33c4d015-4980-43d7-adf3-986ac0abcde6"
      },
      "execution_count": 168,
      "outputs": [
        {
          "output_type": "execute_result",
          "data": {
            "text/plain": [
              "                                                   text sentiment  \\\n",
              "0                             last session of the day     neutral   \n",
              "1     shanghai is also really exciting precisely  sk...  positive   \n",
              "2     recession hit veronique branquinho, she has to...  negative   \n",
              "3                                            happy bday  positive   \n",
              "4                                             i like it  positive   \n",
              "...                                                 ...       ...   \n",
              "3529  its at 3 am, im very tired but i cant sleep  b...  negative   \n",
              "3530  all alone in this old house again  thanks for ...  positive   \n",
              "3531  i know what you mean my little dog is sinking ...  negative   \n",
              "3532  _sutra what is your next youtube video gonna b...  positive   \n",
              "3533                            omgssh  ang cute ng bby  positive   \n",
              "\n",
              "      pred_st_index  pred_en_index                predicted_text  \n",
              "0                 1              4            session of the day  \n",
              "1                 6              6                   skyscrapers  \n",
              "2                10             11                        such a  \n",
              "3                 0              1                    happy bday  \n",
              "4                 1              2                       like it  \n",
              "...             ...            ...                           ...  \n",
              "3529              5              6                    very tired  \n",
              "3530             15             18  and kicking whoever invented  \n",
              "3531             11             12                 depression he  \n",
              "3532             10             11                        i love  \n",
              "3533              1              2                      ang cute  \n",
              "\n",
              "[3534 rows x 5 columns]"
            ],
            "text/html": [
              "\n",
              "  <div id=\"df-6a2b832d-6e58-47b1-8a99-212208ad378b\">\n",
              "    <div class=\"colab-df-container\">\n",
              "      <div>\n",
              "<style scoped>\n",
              "    .dataframe tbody tr th:only-of-type {\n",
              "        vertical-align: middle;\n",
              "    }\n",
              "\n",
              "    .dataframe tbody tr th {\n",
              "        vertical-align: top;\n",
              "    }\n",
              "\n",
              "    .dataframe thead th {\n",
              "        text-align: right;\n",
              "    }\n",
              "</style>\n",
              "<table border=\"1\" class=\"dataframe\">\n",
              "  <thead>\n",
              "    <tr style=\"text-align: right;\">\n",
              "      <th></th>\n",
              "      <th>text</th>\n",
              "      <th>sentiment</th>\n",
              "      <th>pred_st_index</th>\n",
              "      <th>pred_en_index</th>\n",
              "      <th>predicted_text</th>\n",
              "    </tr>\n",
              "  </thead>\n",
              "  <tbody>\n",
              "    <tr>\n",
              "      <th>0</th>\n",
              "      <td>last session of the day</td>\n",
              "      <td>neutral</td>\n",
              "      <td>1</td>\n",
              "      <td>4</td>\n",
              "      <td>session of the day</td>\n",
              "    </tr>\n",
              "    <tr>\n",
              "      <th>1</th>\n",
              "      <td>shanghai is also really exciting precisely  sk...</td>\n",
              "      <td>positive</td>\n",
              "      <td>6</td>\n",
              "      <td>6</td>\n",
              "      <td>skyscrapers</td>\n",
              "    </tr>\n",
              "    <tr>\n",
              "      <th>2</th>\n",
              "      <td>recession hit veronique branquinho, she has to...</td>\n",
              "      <td>negative</td>\n",
              "      <td>10</td>\n",
              "      <td>11</td>\n",
              "      <td>such a</td>\n",
              "    </tr>\n",
              "    <tr>\n",
              "      <th>3</th>\n",
              "      <td>happy bday</td>\n",
              "      <td>positive</td>\n",
              "      <td>0</td>\n",
              "      <td>1</td>\n",
              "      <td>happy bday</td>\n",
              "    </tr>\n",
              "    <tr>\n",
              "      <th>4</th>\n",
              "      <td>i like it</td>\n",
              "      <td>positive</td>\n",
              "      <td>1</td>\n",
              "      <td>2</td>\n",
              "      <td>like it</td>\n",
              "    </tr>\n",
              "    <tr>\n",
              "      <th>...</th>\n",
              "      <td>...</td>\n",
              "      <td>...</td>\n",
              "      <td>...</td>\n",
              "      <td>...</td>\n",
              "      <td>...</td>\n",
              "    </tr>\n",
              "    <tr>\n",
              "      <th>3529</th>\n",
              "      <td>its at 3 am, im very tired but i cant sleep  b...</td>\n",
              "      <td>negative</td>\n",
              "      <td>5</td>\n",
              "      <td>6</td>\n",
              "      <td>very tired</td>\n",
              "    </tr>\n",
              "    <tr>\n",
              "      <th>3530</th>\n",
              "      <td>all alone in this old house again  thanks for ...</td>\n",
              "      <td>positive</td>\n",
              "      <td>15</td>\n",
              "      <td>18</td>\n",
              "      <td>and kicking whoever invented</td>\n",
              "    </tr>\n",
              "    <tr>\n",
              "      <th>3531</th>\n",
              "      <td>i know what you mean my little dog is sinking ...</td>\n",
              "      <td>negative</td>\n",
              "      <td>11</td>\n",
              "      <td>12</td>\n",
              "      <td>depression he</td>\n",
              "    </tr>\n",
              "    <tr>\n",
              "      <th>3532</th>\n",
              "      <td>_sutra what is your next youtube video gonna b...</td>\n",
              "      <td>positive</td>\n",
              "      <td>10</td>\n",
              "      <td>11</td>\n",
              "      <td>i love</td>\n",
              "    </tr>\n",
              "    <tr>\n",
              "      <th>3533</th>\n",
              "      <td>omgssh  ang cute ng bby</td>\n",
              "      <td>positive</td>\n",
              "      <td>1</td>\n",
              "      <td>2</td>\n",
              "      <td>ang cute</td>\n",
              "    </tr>\n",
              "  </tbody>\n",
              "</table>\n",
              "<p>3534 rows × 5 columns</p>\n",
              "</div>\n",
              "      <button class=\"colab-df-convert\" onclick=\"convertToInteractive('df-6a2b832d-6e58-47b1-8a99-212208ad378b')\"\n",
              "              title=\"Convert this dataframe to an interactive table.\"\n",
              "              style=\"display:none;\">\n",
              "        \n",
              "  <svg xmlns=\"http://www.w3.org/2000/svg\" height=\"24px\"viewBox=\"0 0 24 24\"\n",
              "       width=\"24px\">\n",
              "    <path d=\"M0 0h24v24H0V0z\" fill=\"none\"/>\n",
              "    <path d=\"M18.56 5.44l.94 2.06.94-2.06 2.06-.94-2.06-.94-.94-2.06-.94 2.06-2.06.94zm-11 1L8.5 8.5l.94-2.06 2.06-.94-2.06-.94L8.5 2.5l-.94 2.06-2.06.94zm10 10l.94 2.06.94-2.06 2.06-.94-2.06-.94-.94-2.06-.94 2.06-2.06.94z\"/><path d=\"M17.41 7.96l-1.37-1.37c-.4-.4-.92-.59-1.43-.59-.52 0-1.04.2-1.43.59L10.3 9.45l-7.72 7.72c-.78.78-.78 2.05 0 2.83L4 21.41c.39.39.9.59 1.41.59.51 0 1.02-.2 1.41-.59l7.78-7.78 2.81-2.81c.8-.78.8-2.07 0-2.86zM5.41 20L4 18.59l7.72-7.72 1.47 1.35L5.41 20z\"/>\n",
              "  </svg>\n",
              "      </button>\n",
              "      \n",
              "  <style>\n",
              "    .colab-df-container {\n",
              "      display:flex;\n",
              "      flex-wrap:wrap;\n",
              "      gap: 12px;\n",
              "    }\n",
              "\n",
              "    .colab-df-convert {\n",
              "      background-color: #E8F0FE;\n",
              "      border: none;\n",
              "      border-radius: 50%;\n",
              "      cursor: pointer;\n",
              "      display: none;\n",
              "      fill: #1967D2;\n",
              "      height: 32px;\n",
              "      padding: 0 0 0 0;\n",
              "      width: 32px;\n",
              "    }\n",
              "\n",
              "    .colab-df-convert:hover {\n",
              "      background-color: #E2EBFA;\n",
              "      box-shadow: 0px 1px 2px rgba(60, 64, 67, 0.3), 0px 1px 3px 1px rgba(60, 64, 67, 0.15);\n",
              "      fill: #174EA6;\n",
              "    }\n",
              "\n",
              "    [theme=dark] .colab-df-convert {\n",
              "      background-color: #3B4455;\n",
              "      fill: #D2E3FC;\n",
              "    }\n",
              "\n",
              "    [theme=dark] .colab-df-convert:hover {\n",
              "      background-color: #434B5C;\n",
              "      box-shadow: 0px 1px 3px 1px rgba(0, 0, 0, 0.15);\n",
              "      filter: drop-shadow(0px 1px 2px rgba(0, 0, 0, 0.3));\n",
              "      fill: #FFFFFF;\n",
              "    }\n",
              "  </style>\n",
              "\n",
              "      <script>\n",
              "        const buttonEl =\n",
              "          document.querySelector('#df-6a2b832d-6e58-47b1-8a99-212208ad378b button.colab-df-convert');\n",
              "        buttonEl.style.display =\n",
              "          google.colab.kernel.accessAllowed ? 'block' : 'none';\n",
              "\n",
              "        async function convertToInteractive(key) {\n",
              "          const element = document.querySelector('#df-6a2b832d-6e58-47b1-8a99-212208ad378b');\n",
              "          const dataTable =\n",
              "            await google.colab.kernel.invokeFunction('convertToInteractive',\n",
              "                                                     [key], {});\n",
              "          if (!dataTable) return;\n",
              "\n",
              "          const docLinkHtml = 'Like what you see? Visit the ' +\n",
              "            '<a target=\"_blank\" href=https://colab.research.google.com/notebooks/data_table.ipynb>data table notebook</a>'\n",
              "            + ' to learn more about interactive tables.';\n",
              "          element.innerHTML = '';\n",
              "          dataTable['output_type'] = 'display_data';\n",
              "          await google.colab.output.renderOutput(dataTable, element);\n",
              "          const docLink = document.createElement('div');\n",
              "          docLink.innerHTML = docLinkHtml;\n",
              "          element.appendChild(docLink);\n",
              "        }\n",
              "      </script>\n",
              "    </div>\n",
              "  </div>\n",
              "  "
            ]
          },
          "metadata": {},
          "execution_count": 168
        }
      ]
    },
    {
      "cell_type": "markdown",
      "source": [
        "#Predicted text for Test CSV data"
      ],
      "metadata": {
        "id": "P3A28QLZwLlf"
      }
    },
    {
      "cell_type": "code",
      "execution_count": 169,
      "metadata": {
        "id": "QOGshsfadjcp"
      },
      "outputs": [],
      "source": [
        "ypred_train = model.predict(trainX)"
      ]
    },
    {
      "cell_type": "code",
      "execution_count": 170,
      "metadata": {
        "colab": {
          "base_uri": "https://localhost:8080/"
        },
        "id": "iKp1ZUXvzUsI",
        "outputId": "b0af34bc-6411-462d-e26e-229b2a0cf93f"
      },
      "outputs": [
        {
          "output_type": "stream",
          "name": "stdout",
          "text": [
            "Mean square error is 1.22858\n"
          ]
        }
      ],
      "source": [
        "print(\"Mean square error is %.5f\" % mean_squared_error(ypred_train, trainy))"
      ]
    }
  ],
  "metadata": {
    "accelerator": "GPU",
    "colab": {
      "collapsed_sections": [],
      "name": "Twitter_Sentiment_Extraction_Bi-dir_GRU.ipynb",
      "provenance": []
    },
    "kernelspec": {
      "display_name": "Python 3",
      "name": "python3"
    },
    "language_info": {
      "name": "python"
    }
  },
  "nbformat": 4,
  "nbformat_minor": 0
}